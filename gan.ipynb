{
 "cells": [
  {
   "cell_type": "markdown",
   "metadata": {},
   "source": [
    "Based on https://github.com/yunjey/pytorch-tutorial/blob/master/tutorials/03-advanced/generative_adversarial_network/main.py"
   ]
  },
  {
   "cell_type": "code",
   "execution_count": 1,
   "metadata": {},
   "outputs": [
    {
     "name": "stdout",
     "output_type": "stream",
     "text": [
      "cuda\n"
     ]
    }
   ],
   "source": [
    "import torch\n",
    "\n",
    "# Device configuration\n",
    "device = torch.device('cuda' if torch.cuda.is_available() else 'cpu')\n",
    "\n",
    "print(device)"
   ]
  },
  {
   "cell_type": "code",
   "execution_count": 9,
   "metadata": {},
   "outputs": [
    {
     "name": "stdout",
     "output_type": "stream",
     "text": [
      "GENERATOR\n",
      "ConvTranspose2d:  torch.Size([10, 16, 4, 4]) => torch.Size([10, 256, 6, 6])\n",
      "BatchNorm2d:  torch.Size([10, 256, 6, 6]) => torch.Size([10, 256, 6, 6])\n",
      "ReLU:  torch.Size([10, 256, 6, 6]) => torch.Size([10, 256, 6, 6])\n",
      "ConvTranspose2d:  torch.Size([10, 256, 6, 6]) => torch.Size([10, 128, 13, 13])\n",
      "BatchNorm2d:  torch.Size([10, 128, 13, 13]) => torch.Size([10, 128, 13, 13])\n",
      "ReLU:  torch.Size([10, 128, 13, 13]) => torch.Size([10, 128, 13, 13])\n",
      "ConvTranspose2d:  torch.Size([10, 128, 13, 13]) => torch.Size([10, 32, 28, 28])\n",
      "BatchNorm2d:  torch.Size([10, 32, 28, 28]) => torch.Size([10, 32, 28, 28])\n",
      "ReLU:  torch.Size([10, 32, 28, 28]) => torch.Size([10, 32, 28, 28])\n",
      "ConvTranspose2d:  torch.Size([10, 32, 28, 28]) => torch.Size([10, 4, 28, 28])\n",
      "Tanh:  torch.Size([10, 4, 28, 28]) => torch.Size([10, 4, 28, 28])\n",
      "Sequential:  torch.Size([10, 16, 4, 4]) => torch.Size([10, 4, 28, 28])\n",
      "DISCRIMINATOR\n",
      "Conv2d:  torch.Size([10, 4, 28, 28]) => torch.Size([10, 16, 28, 28])\n",
      "BatchNorm2d:  torch.Size([10, 16, 28, 28]) => torch.Size([10, 16, 28, 28])\n",
      "ReLU:  torch.Size([10, 16, 28, 28]) => torch.Size([10, 16, 28, 28])\n",
      "MaxPool2d:  torch.Size([10, 16, 28, 28]) => torch.Size([10, 16, 14, 14])\n",
      "Conv2d:  torch.Size([10, 16, 14, 14]) => torch.Size([10, 32, 14, 14])\n",
      "BatchNorm2d:  torch.Size([10, 32, 14, 14]) => torch.Size([10, 32, 14, 14])\n",
      "ReLU:  torch.Size([10, 32, 14, 14]) => torch.Size([10, 32, 14, 14])\n",
      "MaxPool2d:  torch.Size([10, 32, 14, 14]) => torch.Size([10, 32, 7, 7])\n",
      "Flatten:  torch.Size([10, 32, 7, 7]) => torch.Size([10, 1568])\n",
      "Linear:  torch.Size([10, 1568]) => torch.Size([10, 64])\n",
      "LeakyReLU:  torch.Size([10, 64]) => torch.Size([10, 64])\n",
      "Linear:  torch.Size([10, 64]) => torch.Size([10, 1])\n",
      "Sigmoid:  torch.Size([10, 1]) => torch.Size([10, 1])\n",
      "Sequential:  torch.Size([10, 4, 28, 28]) => torch.Size([10, 1])\n"
     ]
    }
   ],
   "source": [
    "import torch\n",
    "import torch.nn as nn\n",
    "\n",
    "# DO CONVNETS.\n",
    "\n",
    "image_shape = (4, 28, 28)\n",
    "latent_shape = (16, 4, 4)\n",
    "\n",
    "class Flatten(nn.Module):\n",
    "    def forward(self, input):\n",
    "        return input.view(input.size(0), -1)\n",
    "\n",
    "# Discriminator\n",
    "D = nn.Sequential(\n",
    "        # Input: batch, 4, 28, 28\n",
    "        \n",
    "        nn.Conv2d(4, 16, kernel_size=5, stride=1, padding=2), # => batch, 16, 28, 28\n",
    "        nn.BatchNorm2d(16),\n",
    "        nn.ReLU(True),\n",
    "        nn.MaxPool2d(kernel_size=2, stride=2), # => batch, 16, 14, 14\n",
    "\n",
    "        nn.Conv2d(16, 32, kernel_size=5, stride=1, padding=2), # => batch, 32, 7, 7\n",
    "        nn.BatchNorm2d(32),\n",
    "        nn.ReLU(True),\n",
    "        nn.MaxPool2d(kernel_size=2, stride=2), # => batch, 32, 7, 7\n",
    "\n",
    "        Flatten(),\n",
    "\n",
    "        nn.Linear(32*7*7, 64), # => batch, 64\n",
    "        nn.LeakyReLU(0.2, True),\n",
    "        #nn.Linear(64, 64), # => batch, 64\n",
    "        #nn.LeakyReLU(0.2, True),\n",
    "        nn.Linear(64, 1), # => batch, 1\n",
    "        nn.Sigmoid()\n",
    ")\n",
    "\n",
    "# Generator\n",
    "G = nn.Sequential(\n",
    "        # next width or height := (prev_height - 1) * stride + kernel_size - padding * 2\n",
    "    \n",
    "        # Input: batch, 16, 4, 4 (latent_shape)\n",
    "        nn.ConvTranspose2d(16, 256, kernel_size=3, stride=1), # b, 256, 6, 6\n",
    "        nn.BatchNorm2d(256), # nn.utils.SpectralNorm(),\n",
    "        nn.ReLU(True),\n",
    "\n",
    "        nn.ConvTranspose2d(256, 128, kernel_size=5, stride=2, padding=1), # b, 128, 13, 13\n",
    "        nn.BatchNorm2d(128), # nn.utils.SpectralNorm(),\n",
    "        nn.ReLU(True),\n",
    "\n",
    "        nn.ConvTranspose2d(128, 32, kernel_size=4, stride=2, padding=0), # b, 32, 13, 13\n",
    "        nn.BatchNorm2d(32), # nn.utils.SpectralNorm(),\n",
    "        nn.ReLU(True),\n",
    "\n",
    "        nn.ConvTranspose2d(32, 4, kernel_size=5, stride=1, padding=2), # b, 4, 28, 28\n",
    "        # https://distill.pub/2016/deconv-checkerboard/\n",
    "    \n",
    "        nn.Tanh()\n",
    ")\n",
    "\n",
    "# Binary cross entropy loss and optimizer\n",
    "criterion = nn.BCELoss()\n",
    "d_optimizer = torch.optim.Adam(D.parameters(), lr=0.0001)\n",
    "g_optimizer = torch.optim.Adam(G.parameters(), lr=0.0004)\n",
    "\n",
    "def printthings(self, input, output):\n",
    "    # input is a tuple of packed inputs\n",
    "    # output is a Tensor. output.data is the Tensor we are interested\n",
    "    print(self.__class__.__name__ + ': ', input[0].size(), \"=>\", output.data.size())\n",
    "\n",
    "handles = [m.register_forward_hook(printthings) for m in D.modules()] \\\n",
    "        + [m.register_forward_hook(printthings) for m in G.modules()]\n",
    "print(\"GENERATOR\")\n",
    "g_out = G(torch.randn(10, *latent_shape))\n",
    "print(\"DISCRIMINATOR\")\n",
    "d_out = D(g_out)\n",
    "for handle in handles:\n",
    "    handle.remove()\n",
    "\n",
    "# Device setting\n",
    "D = D.to(device)\n",
    "G = G.to(device)"
   ]
  },
  {
   "cell_type": "code",
   "execution_count": 3,
   "metadata": {},
   "outputs": [],
   "source": [
    "def denorm(x):\n",
    "    out = (x + 1) / 2\n",
    "    return out.clamp(0, 1)\n",
    "\n",
    "def reset_grad():\n",
    "    d_optimizer.zero_grad()\n",
    "    g_optimizer.zero_grad()\n"
   ]
  },
  {
   "cell_type": "code",
   "execution_count": 4,
   "metadata": {},
   "outputs": [
    {
     "name": "stdout",
     "output_type": "stream",
     "text": [
      "torch.Size([200000, 4, 28, 28])\n"
     ]
    }
   ],
   "source": [
    "import h5py\n",
    "from torch.utils.data.dataset import Dataset\n",
    "from torchvision import transforms\n",
    "import numpy as np\n",
    "\n",
    "fname = 'dataset.hdf5'\n",
    "dname = 'twitch_emotes'\n",
    "with h5py.File(fname, 'r') as f:\n",
    "    dataset = f[dname]\n",
    "    preloaded_data = torch.Tensor(np.moveaxis(dataset[:200000], 3, 1)).to(device)\n",
    "    print(preloaded_data.size())\n"
   ]
  },
  {
   "cell_type": "code",
   "execution_count": null,
   "metadata": {},
   "outputs": [
    {
     "name": "stdout",
     "output_type": "stream",
     "text": [
      "Epoch [0/50], Step [1/40], d_loss: 1.3996, g_loss: 0.6442, D(x): 0.57, D(G(z)): 0.57\n",
      "Epoch [0/50], Step [2/40], d_loss: 1.4503, g_loss: 0.6237, D(x): 0.56, D(G(z)): 0.58\n",
      "Epoch [0/50], Step [3/40], d_loss: 1.5120, g_loss: 0.5910, D(x): 0.55, D(G(z)): 0.59\n",
      "Epoch [0/50], Step [4/40], d_loss: 1.5623, g_loss: 0.5616, D(x): 0.53, D(G(z)): 0.61\n",
      "Epoch [0/50], Step [5/40], d_loss: 1.6014, g_loss: 0.5484, D(x): 0.52, D(G(z)): 0.61\n",
      "Epoch [0/50], Step [6/40], d_loss: 1.6348, g_loss: 0.5384, D(x): 0.51, D(G(z)): 0.62\n",
      "Epoch [0/50], Step [7/40], d_loss: 1.6547, g_loss: 0.5367, D(x): 0.50, D(G(z)): 0.62\n",
      "Epoch [0/50], Step [8/40], d_loss: 1.6633, g_loss: 0.5391, D(x): 0.50, D(G(z)): 0.62\n",
      "Epoch [0/50], Step [9/40], d_loss: 1.6652, g_loss: 0.5505, D(x): 0.49, D(G(z)): 0.61\n",
      "Epoch [0/50], Step [10/40], d_loss: 1.6555, g_loss: 0.5677, D(x): 0.48, D(G(z)): 0.60\n",
      "Epoch [0/50], Step [11/40], d_loss: 1.6467, g_loss: 0.5847, D(x): 0.47, D(G(z)): 0.59\n",
      "Epoch [0/50], Step [12/40], d_loss: 1.6234, g_loss: 0.6096, D(x): 0.47, D(G(z)): 0.58\n",
      "Epoch [0/50], Step [13/40], d_loss: 1.6015, g_loss: 0.6333, D(x): 0.47, D(G(z)): 0.57\n",
      "Epoch [0/50], Step [14/40], d_loss: 1.5769, g_loss: 0.6610, D(x): 0.46, D(G(z)): 0.55\n",
      "Epoch [0/50], Step [15/40], d_loss: 1.5539, g_loss: 0.6858, D(x): 0.46, D(G(z)): 0.54\n",
      "Epoch [0/50], Step [16/40], d_loss: 1.5374, g_loss: 0.7076, D(x): 0.45, D(G(z)): 0.53\n",
      "Epoch [0/50], Step [17/40], d_loss: 1.5157, g_loss: 0.7282, D(x): 0.45, D(G(z)): 0.52\n",
      "Epoch [0/50], Step [18/40], d_loss: 1.5020, g_loss: 0.7394, D(x): 0.45, D(G(z)): 0.51\n",
      "Epoch [0/50], Step [19/40], d_loss: 1.4971, g_loss: 0.7409, D(x): 0.45, D(G(z)): 0.51\n",
      "Epoch [0/50], Step [20/40], d_loss: 1.4971, g_loss: 0.7376, D(x): 0.45, D(G(z)): 0.51\n",
      "Epoch [0/50], Step [21/40], d_loss: 1.4961, g_loss: 0.7365, D(x): 0.45, D(G(z)): 0.51\n",
      "Epoch [0/50], Step [22/40], d_loss: 1.4928, g_loss: 0.7375, D(x): 0.45, D(G(z)): 0.50\n",
      "Epoch [0/50], Step [23/40], d_loss: 1.4937, g_loss: 0.7306, D(x): 0.46, D(G(z)): 0.51\n",
      "Epoch [0/50], Step [24/40], d_loss: 1.5087, g_loss: 0.7100, D(x): 0.46, D(G(z)): 0.51\n",
      "Epoch [0/50], Step [25/40], d_loss: 1.5301, g_loss: 0.6868, D(x): 0.46, D(G(z)): 0.52\n",
      "Epoch [0/50], Step [26/40], d_loss: 1.5501, g_loss: 0.6697, D(x): 0.46, D(G(z)): 0.53\n",
      "Epoch [0/50], Step [27/40], d_loss: 1.5745, g_loss: 0.6508, D(x): 0.46, D(G(z)): 0.54\n",
      "Epoch [0/50], Step [28/40], d_loss: 1.6026, g_loss: 0.6289, D(x): 0.46, D(G(z)): 0.56\n",
      "Epoch [0/50], Step [29/40], d_loss: 1.6311, g_loss: 0.6097, D(x): 0.45, D(G(z)): 0.57\n",
      "Epoch [0/50], Step [30/40], d_loss: 1.6481, g_loss: 0.5987, D(x): 0.45, D(G(z)): 0.57\n",
      "Epoch [0/50], Step [31/40], d_loss: 1.6625, g_loss: 0.5937, D(x): 0.45, D(G(z)): 0.58\n",
      "Epoch [0/50], Step [32/40], d_loss: 1.6716, g_loss: 0.5938, D(x): 0.45, D(G(z)): 0.58\n",
      "Epoch [0/50], Step [33/40], d_loss: 1.6712, g_loss: 0.5993, D(x): 0.44, D(G(z)): 0.58\n",
      "Epoch [0/50], Step [34/40], d_loss: 1.6676, g_loss: 0.6076, D(x): 0.44, D(G(z)): 0.57\n",
      "Epoch [0/50], Step [35/40], d_loss: 1.6636, g_loss: 0.6180, D(x): 0.44, D(G(z)): 0.57\n",
      "Epoch [0/50], Step [36/40], d_loss: 1.6553, g_loss: 0.6305, D(x): 0.43, D(G(z)): 0.56\n",
      "Epoch [0/50], Step [37/40], d_loss: 1.6439, g_loss: 0.6448, D(x): 0.43, D(G(z)): 0.55\n",
      "Epoch [0/50], Step [38/40], d_loss: 1.6296, g_loss: 0.6621, D(x): 0.43, D(G(z)): 0.54\n",
      "Epoch [0/50], Step [39/40], d_loss: 1.6096, g_loss: 0.6824, D(x): 0.43, D(G(z)): 0.53\n",
      "Epoch [0/50], Step [40/40], d_loss: 1.5867, g_loss: 0.7033, D(x): 0.43, D(G(z)): 0.52\n"
     ]
    },
    {
     "data": {
      "image/png": "[encoded data removed]",
      "text/plain": [
       "<Figure size 432x288 with 1 Axes>"
      ]
     },
     "metadata": {
      "needs_background": "light"
     },
     "output_type": "display_data"
    },
    {
     "data": {
      "image/png": "[encoded data removed]",
      "text/plain": [
       "<Figure size 432x288 with 1 Axes>"
      ]
     },
     "metadata": {
      "needs_background": "light"
     },
     "output_type": "display_data"
    },
    {
     "name": "stdout",
     "output_type": "stream",
     "text": [
      "Epoch [1/50], Step [1/40], d_loss: 1.5619, g_loss: 0.7237, D(x): 0.43, D(G(z)): 0.51\n",
      "Epoch [1/50], Step [2/40], d_loss: 1.5457, g_loss: 0.7441, D(x): 0.43, D(G(z)): 0.50\n",
      "Epoch [1/50], Step [3/40], d_loss: 1.5294, g_loss: 0.7617, D(x): 0.42, D(G(z)): 0.49\n",
      "Epoch [1/50], Step [4/40], d_loss: 1.5183, g_loss: 0.7734, D(x): 0.42, D(G(z)): 0.48\n",
      "Epoch [1/50], Step [5/40], d_loss: 1.5066, g_loss: 0.7832, D(x): 0.42, D(G(z)): 0.47\n",
      "Epoch [1/50], Step [6/40], d_loss: 1.4954, g_loss: 0.7924, D(x): 0.42, D(G(z)): 0.47\n",
      "Epoch [1/50], Step [7/40], d_loss: 1.4885, g_loss: 0.7972, D(x): 0.42, D(G(z)): 0.47\n",
      "Epoch [1/50], Step [8/40], d_loss: 1.4858, g_loss: 0.7940, D(x): 0.43, D(G(z)): 0.47\n",
      "Epoch [1/50], Step [9/40], d_loss: 1.4868, g_loss: 0.7868, D(x): 0.43, D(G(z)): 0.47\n",
      "Epoch [1/50], Step [10/40], d_loss: 1.4865, g_loss: 0.7784, D(x): 0.43, D(G(z)): 0.47\n",
      "Epoch [1/50], Step [11/40], d_loss: 1.4936, g_loss: 0.7658, D(x): 0.43, D(G(z)): 0.48\n",
      "Epoch [1/50], Step [12/40], d_loss: 1.5052, g_loss: 0.7499, D(x): 0.43, D(G(z)): 0.49\n",
      "Epoch [1/50], Step [13/40], d_loss: 1.5140, g_loss: 0.7350, D(x): 0.43, D(G(z)): 0.49\n",
      "Epoch [1/50], Step [14/40], d_loss: 1.5251, g_loss: 0.7206, D(x): 0.44, D(G(z)): 0.50\n",
      "Epoch [1/50], Step [15/40], d_loss: 1.5398, g_loss: 0.7035, D(x): 0.44, D(G(z)): 0.51\n",
      "Epoch [1/50], Step [16/40], d_loss: 1.5557, g_loss: 0.6870, D(x): 0.44, D(G(z)): 0.52\n",
      "Epoch [1/50], Step [17/40], d_loss: 1.5711, g_loss: 0.6727, D(x): 0.44, D(G(z)): 0.52\n",
      "Epoch [1/50], Step [18/40], d_loss: 1.5849, g_loss: 0.6616, D(x): 0.44, D(G(z)): 0.53\n",
      "Epoch [1/50], Step [19/40], d_loss: 1.5875, g_loss: 0.6598, D(x): 0.44, D(G(z)): 0.53\n",
      "Epoch [1/50], Step [20/40], d_loss: 1.5890, g_loss: 0.6590, D(x): 0.44, D(G(z)): 0.53\n",
      "Epoch [1/50], Step [21/40], d_loss: 1.5890, g_loss: 0.6593, D(x): 0.44, D(G(z)): 0.53\n",
      "Epoch [1/50], Step [22/40], d_loss: 1.5901, g_loss: 0.6610, D(x): 0.44, D(G(z)): 0.53\n",
      "Epoch [1/50], Step [23/40], d_loss: 1.5891, g_loss: 0.6620, D(x): 0.43, D(G(z)): 0.53\n",
      "Epoch [1/50], Step [24/40], d_loss: 1.5853, g_loss: 0.6641, D(x): 0.44, D(G(z)): 0.53\n",
      "Epoch [1/50], Step [25/40], d_loss: 1.5831, g_loss: 0.6677, D(x): 0.43, D(G(z)): 0.53\n",
      "Epoch [1/50], Step [26/40], d_loss: 1.5771, g_loss: 0.6725, D(x): 0.44, D(G(z)): 0.52\n",
      "Epoch [1/50], Step [27/40], d_loss: 1.5712, g_loss: 0.6788, D(x): 0.43, D(G(z)): 0.52\n",
      "Epoch [1/50], Step [28/40], d_loss: 1.5659, g_loss: 0.6842, D(x): 0.44, D(G(z)): 0.52\n",
      "Epoch [1/50], Step [29/40], d_loss: 1.5638, g_loss: 0.6864, D(x): 0.43, D(G(z)): 0.52\n",
      "Epoch [1/50], Step [30/40], d_loss: 1.5658, g_loss: 0.6862, D(x): 0.43, D(G(z)): 0.52\n",
      "Epoch [1/50], Step [31/40], d_loss: 1.5614, g_loss: 0.6862, D(x): 0.44, D(G(z)): 0.52\n",
      "Epoch [1/50], Step [32/40], d_loss: 1.5613, g_loss: 0.6898, D(x): 0.43, D(G(z)): 0.52\n",
      "Epoch [1/50], Step [33/40], d_loss: 1.5536, g_loss: 0.6962, D(x): 0.44, D(G(z)): 0.51\n",
      "Epoch [1/50], Step [34/40], d_loss: 1.5535, g_loss: 0.7013, D(x): 0.43, D(G(z)): 0.51\n",
      "Epoch [1/50], Step [35/40], d_loss: 1.5509, g_loss: 0.7052, D(x): 0.43, D(G(z)): 0.51\n",
      "Epoch [1/50], Step [36/40], d_loss: 1.5466, g_loss: 0.7110, D(x): 0.43, D(G(z)): 0.51\n",
      "Epoch [1/50], Step [37/40], d_loss: 1.5385, g_loss: 0.7198, D(x): 0.43, D(G(z)): 0.50\n",
      "Epoch [1/50], Step [38/40], d_loss: 1.5288, g_loss: 0.7300, D(x): 0.43, D(G(z)): 0.50\n",
      "Epoch [1/50], Step [39/40], d_loss: 1.5165, g_loss: 0.7418, D(x): 0.43, D(G(z)): 0.49\n",
      "Epoch [1/50], Step [40/40], d_loss: 1.5047, g_loss: 0.7558, D(x): 0.43, D(G(z)): 0.48\n"
     ]
    },
    {
     "data": {
      "image/png": "[encoded data removed]",
      "text/plain": [
       "<Figure size 432x288 with 1 Axes>"
      ]
     },
     "metadata": {
      "needs_background": "light"
     },
     "output_type": "display_data"
    },
    {
     "name": "stdout",
     "output_type": "stream",
     "text": [
      "Epoch [2/50], Step [1/40], d_loss: 1.4765, g_loss: 0.7703, D(x): 0.44, D(G(z)): 0.48\n",
      "Epoch [2/50], Step [2/40], d_loss: 1.4669, g_loss: 0.7842, D(x): 0.44, D(G(z)): 0.47\n",
      "Epoch [2/50], Step [3/40], d_loss: 1.4573, g_loss: 0.7965, D(x): 0.44, D(G(z)): 0.47\n",
      "Epoch [2/50], Step [4/40], d_loss: 1.4474, g_loss: 0.8078, D(x): 0.44, D(G(z)): 0.46\n",
      "Epoch [2/50], Step [5/40], d_loss: 1.4316, g_loss: 0.8211, D(x): 0.44, D(G(z)): 0.45\n",
      "Epoch [2/50], Step [6/40], d_loss: 1.4190, g_loss: 0.8345, D(x): 0.44, D(G(z)): 0.45\n",
      "Epoch [2/50], Step [7/40], d_loss: 1.4069, g_loss: 0.8438, D(x): 0.44, D(G(z)): 0.44\n",
      "Epoch [2/50], Step [8/40], d_loss: 1.3950, g_loss: 0.8485, D(x): 0.44, D(G(z)): 0.44\n",
      "Epoch [2/50], Step [9/40], d_loss: 1.3889, g_loss: 0.8513, D(x): 0.44, D(G(z)): 0.44\n",
      "Epoch [2/50], Step [10/40], d_loss: 1.3792, g_loss: 0.8553, D(x): 0.44, D(G(z)): 0.43\n",
      "Epoch [2/50], Step [11/40], d_loss: 1.3698, g_loss: 0.8592, D(x): 0.45, D(G(z)): 0.43\n",
      "Epoch [2/50], Step [12/40], d_loss: 1.3618, g_loss: 0.8620, D(x): 0.45, D(G(z)): 0.43\n",
      "Epoch [2/50], Step [13/40], d_loss: 1.3530, g_loss: 0.8641, D(x): 0.45, D(G(z)): 0.43\n",
      "Epoch [2/50], Step [14/40], d_loss: 1.3423, g_loss: 0.8665, D(x): 0.46, D(G(z)): 0.43\n",
      "Epoch [2/50], Step [15/40], d_loss: 1.3340, g_loss: 0.8678, D(x): 0.46, D(G(z)): 0.43\n",
      "Epoch [2/50], Step [16/40], d_loss: 1.3290, g_loss: 0.8674, D(x): 0.46, D(G(z)): 0.43\n",
      "Epoch [2/50], Step [17/40], d_loss: 1.3205, g_loss: 0.8668, D(x): 0.47, D(G(z)): 0.43\n",
      "Epoch [2/50], Step [18/40], d_loss: 1.3133, g_loss: 0.8664, D(x): 0.47, D(G(z)): 0.43\n",
      "Epoch [2/50], Step [19/40], d_loss: 1.3056, g_loss: 0.8645, D(x): 0.48, D(G(z)): 0.43\n",
      "Epoch [2/50], Step [20/40], d_loss: 1.3002, g_loss: 0.8615, D(x): 0.48, D(G(z)): 0.43\n",
      "Epoch [2/50], Step [21/40], d_loss: 1.2944, g_loss: 0.8559, D(x): 0.48, D(G(z)): 0.43\n",
      "Epoch [2/50], Step [22/40], d_loss: 1.2927, g_loss: 0.8473, D(x): 0.49, D(G(z)): 0.44\n",
      "Epoch [2/50], Step [23/40], d_loss: 1.2998, g_loss: 0.8324, D(x): 0.49, D(G(z)): 0.44\n",
      "Epoch [2/50], Step [24/40], d_loss: 1.3100, g_loss: 0.8108, D(x): 0.49, D(G(z)): 0.45\n",
      "Epoch [2/50], Step [25/40], d_loss: 1.3234, g_loss: 0.7890, D(x): 0.50, D(G(z)): 0.46\n",
      "Epoch [2/50], Step [26/40], d_loss: 1.3450, g_loss: 0.7604, D(x): 0.50, D(G(z)): 0.48\n",
      "Epoch [2/50], Step [27/40], d_loss: 1.3730, g_loss: 0.7240, D(x): 0.50, D(G(z)): 0.50\n",
      "Epoch [2/50], Step [28/40], d_loss: 1.4117, g_loss: 0.6854, D(x): 0.51, D(G(z)): 0.52\n",
      "Epoch [2/50], Step [29/40], d_loss: 1.4508, g_loss: 0.6501, D(x): 0.51, D(G(z)): 0.54\n",
      "Epoch [2/50], Step [30/40], d_loss: 1.4887, g_loss: 0.6220, D(x): 0.51, D(G(z)): 0.55\n",
      "Epoch [2/50], Step [31/40], d_loss: 1.5233, g_loss: 0.6013, D(x): 0.50, D(G(z)): 0.57\n",
      "Epoch [2/50], Step [32/40], d_loss: 1.5491, g_loss: 0.5887, D(x): 0.50, D(G(z)): 0.57\n",
      "Epoch [2/50], Step [33/40], d_loss: 1.5632, g_loss: 0.5838, D(x): 0.50, D(G(z)): 0.58\n",
      "Epoch [2/50], Step [34/40], d_loss: 1.5681, g_loss: 0.5869, D(x): 0.50, D(G(z)): 0.58\n",
      "Epoch [2/50], Step [35/40], d_loss: 1.5680, g_loss: 0.5936, D(x): 0.49, D(G(z)): 0.57\n",
      "Epoch [2/50], Step [36/40], d_loss: 1.5662, g_loss: 0.6024, D(x): 0.49, D(G(z)): 0.57\n",
      "Epoch [2/50], Step [37/40], d_loss: 1.5593, g_loss: 0.6118, D(x): 0.48, D(G(z)): 0.56\n",
      "Epoch [2/50], Step [38/40], d_loss: 1.5575, g_loss: 0.6210, D(x): 0.48, D(G(z)): 0.56\n",
      "Epoch [2/50], Step [39/40], d_loss: 1.5570, g_loss: 0.6303, D(x): 0.47, D(G(z)): 0.55\n",
      "Epoch [2/50], Step [40/40], d_loss: 1.5539, g_loss: 0.6411, D(x): 0.47, D(G(z)): 0.55\n"
     ]
    },
    {
     "data": {
      "image/png": "[encoded data removed]",
      "text/plain": [
       "<Figure size 432x288 with 1 Axes>"
      ]
     },
     "metadata": {
      "needs_background": "light"
     },
     "output_type": "display_data"
    },
    {
     "name": "stdout",
     "output_type": "stream",
     "text": [
      "Epoch [3/50], Step [1/40], d_loss: 1.5434, g_loss: 0.6510, D(x): 0.47, D(G(z)): 0.54\n",
      "Epoch [3/50], Step [2/40], d_loss: 1.5436, g_loss: 0.6591, D(x): 0.46, D(G(z)): 0.54\n",
      "Epoch [3/50], Step [3/40], d_loss: 1.5495, g_loss: 0.6648, D(x): 0.46, D(G(z)): 0.53\n",
      "Epoch [3/50], Step [4/40], d_loss: 1.5533, g_loss: 0.6707, D(x): 0.45, D(G(z)): 0.53\n",
      "Epoch [3/50], Step [5/40], d_loss: 1.5568, g_loss: 0.6769, D(x): 0.45, D(G(z)): 0.53\n",
      "Epoch [3/50], Step [6/40], d_loss: 1.5571, g_loss: 0.6823, D(x): 0.44, D(G(z)): 0.52\n",
      "Epoch [3/50], Step [7/40], d_loss: 1.5562, g_loss: 0.6880, D(x): 0.44, D(G(z)): 0.52\n",
      "Epoch [3/50], Step [8/40], d_loss: 1.5548, g_loss: 0.6947, D(x): 0.44, D(G(z)): 0.52\n",
      "Epoch [3/50], Step [9/40], d_loss: 1.5512, g_loss: 0.7012, D(x): 0.44, D(G(z)): 0.51\n",
      "Epoch [3/50], Step [10/40], d_loss: 1.5498, g_loss: 0.7069, D(x): 0.43, D(G(z)): 0.51\n",
      "Epoch [3/50], Step [11/40], d_loss: 1.5441, g_loss: 0.7133, D(x): 0.43, D(G(z)): 0.51\n",
      "Epoch [3/50], Step [12/40], d_loss: 1.5395, g_loss: 0.7224, D(x): 0.43, D(G(z)): 0.50\n",
      "Epoch [3/50], Step [13/40], d_loss: 1.5318, g_loss: 0.7333, D(x): 0.43, D(G(z)): 0.49\n",
      "Epoch [3/50], Step [14/40], d_loss: 1.5228, g_loss: 0.7442, D(x): 0.43, D(G(z)): 0.49\n",
      "Epoch [3/50], Step [15/40], d_loss: 1.5140, g_loss: 0.7549, D(x): 0.43, D(G(z)): 0.48\n",
      "Epoch [3/50], Step [16/40], d_loss: 1.5075, g_loss: 0.7667, D(x): 0.43, D(G(z)): 0.48\n",
      "Epoch [3/50], Step [17/40], d_loss: 1.4972, g_loss: 0.7792, D(x): 0.42, D(G(z)): 0.47\n",
      "Epoch [3/50], Step [18/40], d_loss: 1.4861, g_loss: 0.7892, D(x): 0.43, D(G(z)): 0.47\n",
      "Epoch [3/50], Step [19/40], d_loss: 1.4772, g_loss: 0.7973, D(x): 0.43, D(G(z)): 0.46\n",
      "Epoch [3/50], Step [20/40], d_loss: 1.4740, g_loss: 0.8031, D(x): 0.42, D(G(z)): 0.46\n",
      "Epoch [3/50], Step [21/40], d_loss: 1.4656, g_loss: 0.8067, D(x): 0.43, D(G(z)): 0.46\n",
      "Epoch [3/50], Step [22/40], d_loss: 1.4598, g_loss: 0.8102, D(x): 0.43, D(G(z)): 0.45\n",
      "Epoch [3/50], Step [23/40], d_loss: 1.4541, g_loss: 0.8138, D(x): 0.43, D(G(z)): 0.45\n",
      "Epoch [3/50], Step [24/40], d_loss: 1.4510, g_loss: 0.8164, D(x): 0.43, D(G(z)): 0.45\n",
      "Epoch [3/50], Step [25/40], d_loss: 1.4461, g_loss: 0.8180, D(x): 0.43, D(G(z)): 0.45\n",
      "Epoch [3/50], Step [26/40], d_loss: 1.4423, g_loss: 0.8194, D(x): 0.43, D(G(z)): 0.45\n",
      "Epoch [3/50], Step [27/40], d_loss: 1.4388, g_loss: 0.8210, D(x): 0.43, D(G(z)): 0.45\n",
      "Epoch [3/50], Step [28/40], d_loss: 1.4368, g_loss: 0.8225, D(x): 0.43, D(G(z)): 0.45\n",
      "Epoch [3/50], Step [29/40], d_loss: 1.4339, g_loss: 0.8233, D(x): 0.43, D(G(z)): 0.45\n",
      "Epoch [3/50], Step [30/40], d_loss: 1.4359, g_loss: 0.8233, D(x): 0.43, D(G(z)): 0.45\n",
      "Epoch [3/50], Step [31/40], d_loss: 1.4341, g_loss: 0.8228, D(x): 0.43, D(G(z)): 0.45\n",
      "Epoch [3/50], Step [32/40], d_loss: 1.4367, g_loss: 0.8208, D(x): 0.43, D(G(z)): 0.45\n",
      "Epoch [3/50], Step [33/40], d_loss: 1.4343, g_loss: 0.8170, D(x): 0.44, D(G(z)): 0.45\n",
      "Epoch [3/50], Step [34/40], d_loss: 1.4386, g_loss: 0.8142, D(x): 0.43, D(G(z)): 0.45\n",
      "Epoch [3/50], Step [35/40], d_loss: 1.4359, g_loss: 0.8134, D(x): 0.44, D(G(z)): 0.45\n",
      "Epoch [3/50], Step [36/40], d_loss: 1.4334, g_loss: 0.8161, D(x): 0.44, D(G(z)): 0.45\n",
      "Epoch [3/50], Step [37/40], d_loss: 1.4260, g_loss: 0.8208, D(x): 0.44, D(G(z)): 0.45\n",
      "Epoch [3/50], Step [38/40], d_loss: 1.4157, g_loss: 0.8254, D(x): 0.44, D(G(z)): 0.45\n",
      "Epoch [3/50], Step [39/40], d_loss: 1.4069, g_loss: 0.8306, D(x): 0.44, D(G(z)): 0.45\n",
      "Epoch [3/50], Step [40/40], d_loss: 1.3983, g_loss: 0.8374, D(x): 0.44, D(G(z)): 0.44\n"
     ]
    },
    {
     "data": {
      "image/png": "[encoded data removed]",
      "text/plain": [
       "<Figure size 432x288 with 1 Axes>"
      ]
     },
     "metadata": {
      "needs_background": "light"
     },
     "output_type": "display_data"
    },
    {
     "name": "stdout",
     "output_type": "stream",
     "text": [
      "Epoch [4/50], Step [1/40], d_loss: 1.3552, g_loss: 0.8438, D(x): 0.46, D(G(z)): 0.44\n",
      "Epoch [4/50], Step [2/40], d_loss: 1.3547, g_loss: 0.8506, D(x): 0.46, D(G(z)): 0.44\n",
      "Epoch [4/50], Step [3/40], d_loss: 1.3494, g_loss: 0.8561, D(x): 0.46, D(G(z)): 0.43\n",
      "Epoch [4/50], Step [4/40], d_loss: 1.3456, g_loss: 0.8599, D(x): 0.46, D(G(z)): 0.43\n",
      "Epoch [4/50], Step [5/40], d_loss: 1.3368, g_loss: 0.8629, D(x): 0.46, D(G(z)): 0.43\n",
      "Epoch [4/50], Step [6/40], d_loss: 1.3318, g_loss: 0.8641, D(x): 0.46, D(G(z)): 0.43\n",
      "Epoch [4/50], Step [7/40], d_loss: 1.3293, g_loss: 0.8638, D(x): 0.46, D(G(z)): 0.43\n",
      "Epoch [4/50], Step [8/40], d_loss: 1.3235, g_loss: 0.8626, D(x): 0.47, D(G(z)): 0.43\n",
      "Epoch [4/50], Step [9/40], d_loss: 1.3200, g_loss: 0.8608, D(x): 0.47, D(G(z)): 0.43\n",
      "Epoch [4/50], Step [10/40], d_loss: 1.3157, g_loss: 0.8577, D(x): 0.47, D(G(z)): 0.43\n",
      "Epoch [4/50], Step [11/40], d_loss: 1.3116, g_loss: 0.8546, D(x): 0.48, D(G(z)): 0.43\n",
      "Epoch [4/50], Step [12/40], d_loss: 1.3076, g_loss: 0.8519, D(x): 0.48, D(G(z)): 0.43\n",
      "Epoch [4/50], Step [13/40], d_loss: 1.3045, g_loss: 0.8494, D(x): 0.48, D(G(z)): 0.44\n",
      "Epoch [4/50], Step [14/40], d_loss: 1.2969, g_loss: 0.8469, D(x): 0.49, D(G(z)): 0.44\n",
      "Epoch [4/50], Step [15/40], d_loss: 1.2922, g_loss: 0.8448, D(x): 0.49, D(G(z)): 0.44\n",
      "Epoch [4/50], Step [16/40], d_loss: 1.2873, g_loss: 0.8433, D(x): 0.49, D(G(z)): 0.44\n",
      "Epoch [4/50], Step [17/40], d_loss: 1.2798, g_loss: 0.8427, D(x): 0.50, D(G(z)): 0.44\n",
      "Epoch [4/50], Step [18/40], d_loss: 1.2706, g_loss: 0.8439, D(x): 0.50, D(G(z)): 0.44\n",
      "Epoch [4/50], Step [19/40], d_loss: 1.2619, g_loss: 0.8471, D(x): 0.50, D(G(z)): 0.44\n",
      "Epoch [4/50], Step [20/40], d_loss: 1.2498, g_loss: 0.8504, D(x): 0.51, D(G(z)): 0.44\n",
      "Epoch [4/50], Step [21/40], d_loss: 1.2398, g_loss: 0.8540, D(x): 0.51, D(G(z)): 0.43\n",
      "Epoch [4/50], Step [22/40], d_loss: 1.2310, g_loss: 0.8579, D(x): 0.52, D(G(z)): 0.43\n",
      "Epoch [4/50], Step [23/40], d_loss: 1.2223, g_loss: 0.8622, D(x): 0.52, D(G(z)): 0.43\n",
      "Epoch [4/50], Step [24/40], d_loss: 1.2107, g_loss: 0.8668, D(x): 0.52, D(G(z)): 0.43\n",
      "Epoch [4/50], Step [25/40], d_loss: 1.2003, g_loss: 0.8709, D(x): 0.53, D(G(z)): 0.43\n",
      "Epoch [4/50], Step [26/40], d_loss: 1.1912, g_loss: 0.8751, D(x): 0.53, D(G(z)): 0.43\n",
      "Epoch [4/50], Step [27/40], d_loss: 1.1806, g_loss: 0.8790, D(x): 0.53, D(G(z)): 0.42\n",
      "Epoch [4/50], Step [28/40], d_loss: 1.1706, g_loss: 0.8820, D(x): 0.54, D(G(z)): 0.42\n",
      "Epoch [4/50], Step [29/40], d_loss: 1.1632, g_loss: 0.8844, D(x): 0.54, D(G(z)): 0.42\n",
      "Epoch [4/50], Step [30/40], d_loss: 1.1532, g_loss: 0.8849, D(x): 0.55, D(G(z)): 0.42\n",
      "Epoch [4/50], Step [31/40], d_loss: 1.1485, g_loss: 0.8832, D(x): 0.55, D(G(z)): 0.42\n",
      "Epoch [4/50], Step [32/40], d_loss: 1.1436, g_loss: 0.8780, D(x): 0.56, D(G(z)): 0.43\n",
      "Epoch [4/50], Step [33/40], d_loss: 1.1443, g_loss: 0.8658, D(x): 0.56, D(G(z)): 0.43\n",
      "Epoch [4/50], Step [34/40], d_loss: 1.1569, g_loss: 0.8408, D(x): 0.57, D(G(z)): 0.44\n",
      "Epoch [4/50], Step [35/40], d_loss: 1.1852, g_loss: 0.7973, D(x): 0.57, D(G(z)): 0.46\n",
      "Epoch [4/50], Step [36/40], d_loss: 1.2315, g_loss: 0.7420, D(x): 0.57, D(G(z)): 0.49\n",
      "Epoch [4/50], Step [37/40], d_loss: 1.2728, g_loss: 0.6941, D(x): 0.58, D(G(z)): 0.51\n",
      "Epoch [4/50], Step [38/40], d_loss: 1.3069, g_loss: 0.6586, D(x): 0.58, D(G(z)): 0.53\n",
      "Epoch [4/50], Step [39/40], d_loss: 1.3357, g_loss: 0.6335, D(x): 0.58, D(G(z)): 0.55\n",
      "Epoch [4/50], Step [40/40], d_loss: 1.3548, g_loss: 0.6162, D(x): 0.58, D(G(z)): 0.56\n"
     ]
    },
    {
     "data": {
      "image/png": "[encoded data removed]",
      "text/plain": [
       "<Figure size 432x288 with 1 Axes>"
      ]
     },
     "metadata": {
      "needs_background": "light"
     },
     "output_type": "display_data"
    },
    {
     "name": "stdout",
     "output_type": "stream",
     "text": [
      "Epoch [5/50], Step [1/40], d_loss: 1.3853, g_loss: 0.6042, D(x): 0.58, D(G(z)): 0.56\n",
      "Epoch [5/50], Step [2/40], d_loss: 1.4030, g_loss: 0.5941, D(x): 0.58, D(G(z)): 0.57\n",
      "Epoch [5/50], Step [3/40], d_loss: 1.4230, g_loss: 0.5825, D(x): 0.58, D(G(z)): 0.58\n",
      "Epoch [5/50], Step [4/40], d_loss: 1.4461, g_loss: 0.5742, D(x): 0.58, D(G(z)): 0.59\n",
      "Epoch [5/50], Step [5/40], d_loss: 1.4620, g_loss: 0.5709, D(x): 0.57, D(G(z)): 0.59\n",
      "Epoch [5/50], Step [6/40], d_loss: 1.4670, g_loss: 0.5751, D(x): 0.57, D(G(z)): 0.59\n",
      "Epoch [5/50], Step [7/40], d_loss: 1.4640, g_loss: 0.5837, D(x): 0.56, D(G(z)): 0.59\n",
      "Epoch [5/50], Step [8/40], d_loss: 1.4577, g_loss: 0.5963, D(x): 0.56, D(G(z)): 0.58\n",
      "Epoch [5/50], Step [9/40], d_loss: 1.4416, g_loss: 0.6123, D(x): 0.56, D(G(z)): 0.57\n",
      "Epoch [5/50], Step [10/40], d_loss: 1.4250, g_loss: 0.6312, D(x): 0.55, D(G(z)): 0.56\n",
      "Epoch [5/50], Step [11/40], d_loss: 1.4062, g_loss: 0.6521, D(x): 0.55, D(G(z)): 0.55\n",
      "Epoch [5/50], Step [12/40], d_loss: 1.3943, g_loss: 0.6704, D(x): 0.54, D(G(z)): 0.54\n",
      "Epoch [5/50], Step [13/40], d_loss: 1.3848, g_loss: 0.6829, D(x): 0.54, D(G(z)): 0.53\n",
      "Epoch [5/50], Step [14/40], d_loss: 1.3854, g_loss: 0.6891, D(x): 0.53, D(G(z)): 0.53\n",
      "Epoch [5/50], Step [15/40], d_loss: 1.3981, g_loss: 0.6865, D(x): 0.53, D(G(z)): 0.53\n",
      "Epoch [5/50], Step [16/40], d_loss: 1.4192, g_loss: 0.6780, D(x): 0.53, D(G(z)): 0.54\n",
      "Epoch [5/50], Step [17/40], d_loss: 1.4507, g_loss: 0.6631, D(x): 0.52, D(G(z)): 0.55\n",
      "Epoch [5/50], Step [18/40], d_loss: 1.4732, g_loss: 0.6465, D(x): 0.52, D(G(z)): 0.55\n",
      "Epoch [5/50], Step [19/40], d_loss: 1.5010, g_loss: 0.6303, D(x): 0.51, D(G(z)): 0.56\n",
      "Epoch [5/50], Step [20/40], d_loss: 1.5299, g_loss: 0.6159, D(x): 0.51, D(G(z)): 0.57\n",
      "Epoch [5/50], Step [21/40], d_loss: 1.5589, g_loss: 0.6011, D(x): 0.51, D(G(z)): 0.58\n",
      "Epoch [5/50], Step [22/40], d_loss: 1.5918, g_loss: 0.5860, D(x): 0.50, D(G(z)): 0.59\n",
      "Epoch [5/50], Step [23/40], d_loss: 1.6237, g_loss: 0.5721, D(x): 0.49, D(G(z)): 0.60\n",
      "Epoch [5/50], Step [24/40], d_loss: 1.6407, g_loss: 0.5639, D(x): 0.49, D(G(z)): 0.60\n",
      "Epoch [5/50], Step [25/40], d_loss: 1.6611, g_loss: 0.5605, D(x): 0.48, D(G(z)): 0.60\n",
      "Epoch [5/50], Step [26/40], d_loss: 1.6739, g_loss: 0.5601, D(x): 0.48, D(G(z)): 0.60\n",
      "Epoch [5/50], Step [27/40], d_loss: 1.6745, g_loss: 0.5656, D(x): 0.47, D(G(z)): 0.60\n",
      "Epoch [5/50], Step [28/40], d_loss: 1.6739, g_loss: 0.5763, D(x): 0.47, D(G(z)): 0.59\n",
      "Epoch [5/50], Step [29/40], d_loss: 1.6657, g_loss: 0.5923, D(x): 0.46, D(G(z)): 0.59\n",
      "Epoch [5/50], Step [30/40], d_loss: 1.6479, g_loss: 0.6134, D(x): 0.45, D(G(z)): 0.57\n",
      "Epoch [5/50], Step [31/40], d_loss: 1.6274, g_loss: 0.6351, D(x): 0.45, D(G(z)): 0.56\n",
      "Epoch [5/50], Step [32/40], d_loss: 1.6171, g_loss: 0.6562, D(x): 0.44, D(G(z)): 0.55\n",
      "Epoch [5/50], Step [33/40], d_loss: 1.5950, g_loss: 0.6778, D(x): 0.44, D(G(z)): 0.54\n",
      "Epoch [5/50], Step [34/40], d_loss: 1.5845, g_loss: 0.6972, D(x): 0.43, D(G(z)): 0.52\n",
      "Epoch [5/50], Step [35/40], d_loss: 1.5644, g_loss: 0.7166, D(x): 0.43, D(G(z)): 0.51\n",
      "Epoch [5/50], Step [36/40], d_loss: 1.5528, g_loss: 0.7371, D(x): 0.42, D(G(z)): 0.50\n",
      "Epoch [5/50], Step [37/40], d_loss: 1.5343, g_loss: 0.7581, D(x): 0.42, D(G(z)): 0.49\n",
      "Epoch [5/50], Step [38/40], d_loss: 1.5106, g_loss: 0.7787, D(x): 0.42, D(G(z)): 0.47\n",
      "Epoch [5/50], Step [39/40], d_loss: 1.4960, g_loss: 0.7977, D(x): 0.42, D(G(z)): 0.46\n",
      "Epoch [5/50], Step [40/40], d_loss: 1.4825, g_loss: 0.8140, D(x): 0.42, D(G(z)): 0.46\n"
     ]
    },
    {
     "data": {
      "image/png": "[encoded data removed]",
      "text/plain": [
       "<Figure size 432x288 with 1 Axes>"
      ]
     },
     "metadata": {
      "needs_background": "light"
     },
     "output_type": "display_data"
    },
    {
     "name": "stdout",
     "output_type": "stream",
     "text": [
      "Epoch [6/50], Step [1/40], d_loss: 1.4390, g_loss: 0.8277, D(x): 0.43, D(G(z)): 0.45\n",
      "Epoch [6/50], Step [2/40], d_loss: 1.4366, g_loss: 0.8392, D(x): 0.43, D(G(z)): 0.44\n",
      "Epoch [6/50], Step [3/40], d_loss: 1.4306, g_loss: 0.8491, D(x): 0.43, D(G(z)): 0.44\n",
      "Epoch [6/50], Step [4/40], d_loss: 1.4245, g_loss: 0.8577, D(x): 0.43, D(G(z)): 0.43\n",
      "Epoch [6/50], Step [5/40], d_loss: 1.4170, g_loss: 0.8646, D(x): 0.43, D(G(z)): 0.43\n",
      "Epoch [6/50], Step [6/40], d_loss: 1.4050, g_loss: 0.8710, D(x): 0.43, D(G(z)): 0.43\n",
      "Epoch [6/50], Step [7/40], d_loss: 1.4021, g_loss: 0.8762, D(x): 0.43, D(G(z)): 0.42\n",
      "Epoch [6/50], Step [8/40], d_loss: 1.3894, g_loss: 0.8800, D(x): 0.43, D(G(z)): 0.42\n",
      "Epoch [6/50], Step [9/40], d_loss: 1.3835, g_loss: 0.8823, D(x): 0.43, D(G(z)): 0.42\n",
      "Epoch [6/50], Step [10/40], d_loss: 1.3745, g_loss: 0.8829, D(x): 0.44, D(G(z)): 0.42\n",
      "Epoch [6/50], Step [11/40], d_loss: 1.3688, g_loss: 0.8818, D(x): 0.44, D(G(z)): 0.42\n",
      "Epoch [6/50], Step [12/40], d_loss: 1.3643, g_loss: 0.8790, D(x): 0.44, D(G(z)): 0.42\n",
      "Epoch [6/50], Step [13/40], d_loss: 1.3582, g_loss: 0.8738, D(x): 0.45, D(G(z)): 0.42\n",
      "Epoch [6/50], Step [14/40], d_loss: 1.3608, g_loss: 0.8647, D(x): 0.45, D(G(z)): 0.43\n",
      "Epoch [6/50], Step [15/40], d_loss: 1.3645, g_loss: 0.8524, D(x): 0.45, D(G(z)): 0.44\n",
      "Epoch [6/50], Step [16/40], d_loss: 1.3733, g_loss: 0.8379, D(x): 0.46, D(G(z)): 0.44\n",
      "Epoch [6/50], Step [17/40], d_loss: 1.3885, g_loss: 0.8197, D(x): 0.46, D(G(z)): 0.45\n",
      "Epoch [6/50], Step [18/40], d_loss: 1.4013, g_loss: 0.8002, D(x): 0.46, D(G(z)): 0.46\n",
      "Epoch [6/50], Step [19/40], d_loss: 1.4143, g_loss: 0.7815, D(x): 0.46, D(G(z)): 0.47\n",
      "Epoch [6/50], Step [20/40], d_loss: 1.4332, g_loss: 0.7661, D(x): 0.46, D(G(z)): 0.48\n",
      "Epoch [6/50], Step [21/40], d_loss: 1.4398, g_loss: 0.7534, D(x): 0.46, D(G(z)): 0.49\n",
      "Epoch [6/50], Step [22/40], d_loss: 1.4548, g_loss: 0.7409, D(x): 0.46, D(G(z)): 0.49\n",
      "Epoch [6/50], Step [23/40], d_loss: 1.4670, g_loss: 0.7322, D(x): 0.46, D(G(z)): 0.50\n",
      "Epoch [6/50], Step [24/40], d_loss: 1.4790, g_loss: 0.7286, D(x): 0.46, D(G(z)): 0.50\n",
      "Epoch [6/50], Step [25/40], d_loss: 1.4801, g_loss: 0.7292, D(x): 0.46, D(G(z)): 0.50\n",
      "Epoch [6/50], Step [26/40], d_loss: 1.4803, g_loss: 0.7320, D(x): 0.46, D(G(z)): 0.50\n",
      "Epoch [6/50], Step [27/40], d_loss: 1.4814, g_loss: 0.7375, D(x): 0.46, D(G(z)): 0.50\n",
      "Epoch [6/50], Step [28/40], d_loss: 1.4786, g_loss: 0.7469, D(x): 0.45, D(G(z)): 0.49\n",
      "Epoch [6/50], Step [29/40], d_loss: 1.4701, g_loss: 0.7581, D(x): 0.45, D(G(z)): 0.49\n",
      "Epoch [6/50], Step [30/40], d_loss: 1.4658, g_loss: 0.7699, D(x): 0.45, D(G(z)): 0.48\n",
      "Epoch [6/50], Step [31/40], d_loss: 1.4581, g_loss: 0.7826, D(x): 0.45, D(G(z)): 0.48\n",
      "Epoch [6/50], Step [32/40], d_loss: 1.4507, g_loss: 0.7959, D(x): 0.44, D(G(z)): 0.47\n",
      "Epoch [6/50], Step [33/40], d_loss: 1.4415, g_loss: 0.8074, D(x): 0.44, D(G(z)): 0.46\n",
      "Epoch [6/50], Step [34/40], d_loss: 1.4350, g_loss: 0.8174, D(x): 0.44, D(G(z)): 0.46\n",
      "Epoch [6/50], Step [35/40], d_loss: 1.4253, g_loss: 0.8247, D(x): 0.44, D(G(z)): 0.45\n",
      "Epoch [6/50], Step [36/40], d_loss: 1.4255, g_loss: 0.8303, D(x): 0.44, D(G(z)): 0.45\n",
      "Epoch [6/50], Step [37/40], d_loss: 1.4188, g_loss: 0.8352, D(x): 0.44, D(G(z)): 0.45\n",
      "Epoch [6/50], Step [38/40], d_loss: 1.4088, g_loss: 0.8397, D(x): 0.44, D(G(z)): 0.45\n",
      "Epoch [6/50], Step [39/40], d_loss: 1.4029, g_loss: 0.8419, D(x): 0.44, D(G(z)): 0.44\n",
      "Epoch [6/50], Step [40/40], d_loss: 1.3969, g_loss: 0.8437, D(x): 0.44, D(G(z)): 0.44\n"
     ]
    },
    {
     "data": {
      "image/png": "[encoded data removed]",
      "text/plain": [
       "<Figure size 432x288 with 1 Axes>"
      ]
     },
     "metadata": {
      "needs_background": "light"
     },
     "output_type": "display_data"
    },
    {
     "name": "stdout",
     "output_type": "stream",
     "text": [
      "Epoch [7/50], Step [1/40], d_loss: 1.3843, g_loss: 0.8460, D(x): 0.45, D(G(z)): 0.44\n",
      "Epoch [7/50], Step [2/40], d_loss: 1.3834, g_loss: 0.8484, D(x): 0.45, D(G(z)): 0.44\n",
      "Epoch [7/50], Step [3/40], d_loss: 1.3822, g_loss: 0.8507, D(x): 0.45, D(G(z)): 0.44\n",
      "Epoch [7/50], Step [4/40], d_loss: 1.3748, g_loss: 0.8530, D(x): 0.45, D(G(z)): 0.43\n",
      "Epoch [7/50], Step [5/40], d_loss: 1.3703, g_loss: 0.8544, D(x): 0.45, D(G(z)): 0.43\n",
      "Epoch [7/50], Step [6/40], d_loss: 1.3660, g_loss: 0.8546, D(x): 0.45, D(G(z)): 0.43\n",
      "Epoch [7/50], Step [7/40], d_loss: 1.3582, g_loss: 0.8547, D(x): 0.45, D(G(z)): 0.43\n",
      "Epoch [7/50], Step [8/40], d_loss: 1.3520, g_loss: 0.8543, D(x): 0.46, D(G(z)): 0.43\n",
      "Epoch [7/50], Step [9/40], d_loss: 1.3458, g_loss: 0.8536, D(x): 0.46, D(G(z)): 0.43\n",
      "Epoch [7/50], Step [10/40], d_loss: 1.3382, g_loss: 0.8529, D(x): 0.46, D(G(z)): 0.43\n",
      "Epoch [7/50], Step [11/40], d_loss: 1.3281, g_loss: 0.8513, D(x): 0.47, D(G(z)): 0.43\n",
      "Epoch [7/50], Step [12/40], d_loss: 1.3222, g_loss: 0.8502, D(x): 0.47, D(G(z)): 0.44\n",
      "Epoch [7/50], Step [13/40], d_loss: 1.3158, g_loss: 0.8492, D(x): 0.48, D(G(z)): 0.44\n",
      "Epoch [7/50], Step [14/40], d_loss: 1.3064, g_loss: 0.8484, D(x): 0.48, D(G(z)): 0.44\n",
      "Epoch [7/50], Step [15/40], d_loss: 1.3014, g_loss: 0.8479, D(x): 0.48, D(G(z)): 0.44\n",
      "Epoch [7/50], Step [16/40], d_loss: 1.2949, g_loss: 0.8474, D(x): 0.49, D(G(z)): 0.44\n",
      "Epoch [7/50], Step [17/40], d_loss: 1.2863, g_loss: 0.8469, D(x): 0.49, D(G(z)): 0.44\n",
      "Epoch [7/50], Step [18/40], d_loss: 1.2752, g_loss: 0.8463, D(x): 0.50, D(G(z)): 0.44\n",
      "Epoch [7/50], Step [19/40], d_loss: 1.2661, g_loss: 0.8458, D(x): 0.50, D(G(z)): 0.44\n",
      "Epoch [7/50], Step [20/40], d_loss: 1.2607, g_loss: 0.8448, D(x): 0.51, D(G(z)): 0.44\n",
      "Epoch [7/50], Step [21/40], d_loss: 1.2505, g_loss: 0.8453, D(x): 0.51, D(G(z)): 0.44\n",
      "Epoch [7/50], Step [22/40], d_loss: 1.2409, g_loss: 0.8467, D(x): 0.52, D(G(z)): 0.44\n",
      "Epoch [7/50], Step [23/40], d_loss: 1.2277, g_loss: 0.8479, D(x): 0.52, D(G(z)): 0.44\n",
      "Epoch [7/50], Step [24/40], d_loss: 1.2185, g_loss: 0.8501, D(x): 0.53, D(G(z)): 0.44\n",
      "Epoch [7/50], Step [25/40], d_loss: 1.2082, g_loss: 0.8528, D(x): 0.53, D(G(z)): 0.44\n",
      "Epoch [7/50], Step [26/40], d_loss: 1.2007, g_loss: 0.8547, D(x): 0.54, D(G(z)): 0.44\n",
      "Epoch [7/50], Step [27/40], d_loss: 1.1925, g_loss: 0.8540, D(x): 0.54, D(G(z)): 0.44\n",
      "Epoch [7/50], Step [28/40], d_loss: 1.1885, g_loss: 0.8496, D(x): 0.54, D(G(z)): 0.44\n",
      "Epoch [7/50], Step [29/40], d_loss: 1.1900, g_loss: 0.8423, D(x): 0.55, D(G(z)): 0.44\n",
      "Epoch [7/50], Step [30/40], d_loss: 1.1895, g_loss: 0.8319, D(x): 0.55, D(G(z)): 0.45\n",
      "Epoch [7/50], Step [31/40], d_loss: 1.1955, g_loss: 0.8182, D(x): 0.56, D(G(z)): 0.45\n",
      "Epoch [7/50], Step [32/40], d_loss: 1.2029, g_loss: 0.7991, D(x): 0.56, D(G(z)): 0.46\n",
      "Epoch [7/50], Step [33/40], d_loss: 1.2173, g_loss: 0.7762, D(x): 0.56, D(G(z)): 0.47\n",
      "Epoch [7/50], Step [34/40], d_loss: 1.2362, g_loss: 0.7529, D(x): 0.57, D(G(z)): 0.49\n",
      "Epoch [7/50], Step [35/40], d_loss: 1.2521, g_loss: 0.7297, D(x): 0.57, D(G(z)): 0.50\n",
      "Epoch [7/50], Step [36/40], d_loss: 1.2815, g_loss: 0.7053, D(x): 0.57, D(G(z)): 0.51\n",
      "Epoch [7/50], Step [37/40], d_loss: 1.3052, g_loss: 0.6818, D(x): 0.57, D(G(z)): 0.52\n",
      "Epoch [7/50], Step [38/40], d_loss: 1.3305, g_loss: 0.6568, D(x): 0.57, D(G(z)): 0.53\n",
      "Epoch [7/50], Step [39/40], d_loss: 1.3638, g_loss: 0.6292, D(x): 0.57, D(G(z)): 0.55\n",
      "Epoch [7/50], Step [40/40], d_loss: 1.3928, g_loss: 0.6046, D(x): 0.57, D(G(z)): 0.56\n"
     ]
    },
    {
     "data": {
      "image/png": "[encoded data removed]",
      "text/plain": [
       "<Figure size 432x288 with 1 Axes>"
      ]
     },
     "metadata": {
      "needs_background": "light"
     },
     "output_type": "display_data"
    },
    {
     "name": "stdout",
     "output_type": "stream",
     "text": [
      "Epoch [8/50], Step [1/40], d_loss: 1.4196, g_loss: 0.5862, D(x): 0.57, D(G(z)): 0.57\n",
      "Epoch [8/50], Step [2/40], d_loss: 1.4399, g_loss: 0.5769, D(x): 0.57, D(G(z)): 0.58\n",
      "Epoch [8/50], Step [3/40], d_loss: 1.4487, g_loss: 0.5738, D(x): 0.57, D(G(z)): 0.58\n",
      "Epoch [8/50], Step [4/40], d_loss: 1.4508, g_loss: 0.5753, D(x): 0.57, D(G(z)): 0.58\n",
      "Epoch [8/50], Step [5/40], d_loss: 1.4497, g_loss: 0.5789, D(x): 0.56, D(G(z)): 0.58\n",
      "Epoch [8/50], Step [6/40], d_loss: 1.4467, g_loss: 0.5873, D(x): 0.56, D(G(z)): 0.58\n",
      "Epoch [8/50], Step [7/40], d_loss: 1.4354, g_loss: 0.5987, D(x): 0.56, D(G(z)): 0.57\n",
      "Epoch [8/50], Step [8/40], d_loss: 1.4194, g_loss: 0.6128, D(x): 0.56, D(G(z)): 0.56\n",
      "Epoch [8/50], Step [9/40], d_loss: 1.4043, g_loss: 0.6279, D(x): 0.56, D(G(z)): 0.56\n",
      "Epoch [8/50], Step [10/40], d_loss: 1.3878, g_loss: 0.6425, D(x): 0.56, D(G(z)): 0.55\n",
      "Epoch [8/50], Step [11/40], d_loss: 1.3770, g_loss: 0.6555, D(x): 0.55, D(G(z)): 0.54\n",
      "Epoch [8/50], Step [12/40], d_loss: 1.3684, g_loss: 0.6654, D(x): 0.55, D(G(z)): 0.54\n",
      "Epoch [8/50], Step [13/40], d_loss: 1.3602, g_loss: 0.6721, D(x): 0.55, D(G(z)): 0.53\n",
      "Epoch [8/50], Step [14/40], d_loss: 1.3598, g_loss: 0.6748, D(x): 0.55, D(G(z)): 0.53\n",
      "Epoch [8/50], Step [15/40], d_loss: 1.3664, g_loss: 0.6733, D(x): 0.55, D(G(z)): 0.53\n",
      "Epoch [8/50], Step [16/40], d_loss: 1.3751, g_loss: 0.6671, D(x): 0.55, D(G(z)): 0.54\n",
      "Epoch [8/50], Step [17/40], d_loss: 1.3915, g_loss: 0.6594, D(x): 0.55, D(G(z)): 0.54\n",
      "Epoch [8/50], Step [18/40], d_loss: 1.4116, g_loss: 0.6501, D(x): 0.55, D(G(z)): 0.55\n",
      "Epoch [8/50], Step [19/40], d_loss: 1.4329, g_loss: 0.6372, D(x): 0.55, D(G(z)): 0.56\n",
      "Epoch [8/50], Step [20/40], d_loss: 1.4569, g_loss: 0.6249, D(x): 0.54, D(G(z)): 0.57\n",
      "Epoch [8/50], Step [21/40], d_loss: 1.4828, g_loss: 0.6094, D(x): 0.54, D(G(z)): 0.58\n",
      "Epoch [8/50], Step [22/40], d_loss: 1.5211, g_loss: 0.5871, D(x): 0.54, D(G(z)): 0.59\n",
      "Epoch [8/50], Step [23/40], d_loss: 1.5864, g_loss: 0.5521, D(x): 0.53, D(G(z)): 0.61\n",
      "Epoch [8/50], Step [24/40], d_loss: 1.6492, g_loss: 0.5188, D(x): 0.53, D(G(z)): 0.63\n",
      "Epoch [8/50], Step [25/40], d_loss: 1.7123, g_loss: 0.4939, D(x): 0.52, D(G(z)): 0.65\n",
      "Epoch [8/50], Step [26/40], d_loss: 1.7478, g_loss: 0.4849, D(x): 0.51, D(G(z)): 0.65\n",
      "Epoch [8/50], Step [27/40], d_loss: 1.7431, g_loss: 0.4977, D(x): 0.50, D(G(z)): 0.65\n",
      "Epoch [8/50], Step [28/40], d_loss: 1.7044, g_loss: 0.5299, D(x): 0.49, D(G(z)): 0.62\n",
      "Epoch [8/50], Step [29/40], d_loss: 1.6598, g_loss: 0.5723, D(x): 0.48, D(G(z)): 0.60\n",
      "Epoch [8/50], Step [30/40], d_loss: 1.6258, g_loss: 0.6133, D(x): 0.47, D(G(z)): 0.58\n",
      "Epoch [8/50], Step [31/40], d_loss: 1.5947, g_loss: 0.6511, D(x): 0.46, D(G(z)): 0.55\n",
      "Epoch [8/50], Step [32/40], d_loss: 1.5779, g_loss: 0.6858, D(x): 0.45, D(G(z)): 0.54\n",
      "Epoch [8/50], Step [33/40], d_loss: 1.5539, g_loss: 0.7159, D(x): 0.45, D(G(z)): 0.52\n",
      "Epoch [8/50], Step [34/40], d_loss: 1.5435, g_loss: 0.7449, D(x): 0.44, D(G(z)): 0.50\n",
      "Epoch [8/50], Step [35/40], d_loss: 1.5217, g_loss: 0.7725, D(x): 0.43, D(G(z)): 0.49\n",
      "Epoch [8/50], Step [36/40], d_loss: 1.5144, g_loss: 0.7977, D(x): 0.42, D(G(z)): 0.48\n",
      "Epoch [8/50], Step [37/40], d_loss: 1.5009, g_loss: 0.8194, D(x): 0.42, D(G(z)): 0.46\n",
      "Epoch [8/50], Step [38/40], d_loss: 1.4847, g_loss: 0.8385, D(x): 0.42, D(G(z)): 0.45\n",
      "Epoch [8/50], Step [39/40], d_loss: 1.4723, g_loss: 0.8549, D(x): 0.42, D(G(z)): 0.44\n",
      "Epoch [8/50], Step [40/40], d_loss: 1.4621, g_loss: 0.8695, D(x): 0.42, D(G(z)): 0.44\n"
     ]
    },
    {
     "data": {
      "image/png": "[encoded data removed]",
      "text/plain": [
       "<Figure size 432x288 with 1 Axes>"
      ]
     },
     "metadata": {
      "needs_background": "light"
     },
     "output_type": "display_data"
    },
    {
     "name": "stdout",
     "output_type": "stream",
     "text": [
      "Epoch [9/50], Step [1/40], d_loss: 1.4104, g_loss: 0.8800, D(x): 0.43, D(G(z)): 0.43\n",
      "Epoch [9/50], Step [2/40], d_loss: 1.4227, g_loss: 0.8863, D(x): 0.42, D(G(z)): 0.43\n",
      "Epoch [9/50], Step [3/40], d_loss: 1.4249, g_loss: 0.8894, D(x): 0.42, D(G(z)): 0.42\n",
      "Epoch [9/50], Step [4/40], d_loss: 1.4216, g_loss: 0.8932, D(x): 0.42, D(G(z)): 0.42\n",
      "Epoch [9/50], Step [5/40], d_loss: 1.4134, g_loss: 0.8981, D(x): 0.42, D(G(z)): 0.41\n",
      "Epoch [9/50], Step [6/40], d_loss: 1.4061, g_loss: 0.9022, D(x): 0.42, D(G(z)): 0.41\n",
      "Epoch [9/50], Step [7/40], d_loss: 1.3994, g_loss: 0.9055, D(x): 0.42, D(G(z)): 0.41\n",
      "Epoch [9/50], Step [8/40], d_loss: 1.3905, g_loss: 0.9073, D(x): 0.43, D(G(z)): 0.41\n",
      "Epoch [9/50], Step [9/40], d_loss: 1.3839, g_loss: 0.9076, D(x): 0.43, D(G(z)): 0.41\n",
      "Epoch [9/50], Step [10/40], d_loss: 1.3698, g_loss: 0.9074, D(x): 0.44, D(G(z)): 0.41\n",
      "Epoch [9/50], Step [11/40], d_loss: 1.3587, g_loss: 0.9071, D(x): 0.44, D(G(z)): 0.41\n",
      "Epoch [9/50], Step [12/40], d_loss: 1.3523, g_loss: 0.9063, D(x): 0.44, D(G(z)): 0.41\n",
      "Epoch [9/50], Step [13/40], d_loss: 1.3392, g_loss: 0.9057, D(x): 0.45, D(G(z)): 0.41\n",
      "Epoch [9/50], Step [14/40], d_loss: 1.3335, g_loss: 0.9059, D(x): 0.45, D(G(z)): 0.41\n",
      "Epoch [9/50], Step [15/40], d_loss: 1.3234, g_loss: 0.9069, D(x): 0.46, D(G(z)): 0.41\n",
      "Epoch [9/50], Step [16/40], d_loss: 1.3149, g_loss: 0.9057, D(x): 0.46, D(G(z)): 0.41\n",
      "Epoch [9/50], Step [17/40], d_loss: 1.3064, g_loss: 0.9028, D(x): 0.47, D(G(z)): 0.41\n",
      "Epoch [9/50], Step [18/40], d_loss: 1.2988, g_loss: 0.8992, D(x): 0.47, D(G(z)): 0.41\n",
      "Epoch [9/50], Step [19/40], d_loss: 1.2910, g_loss: 0.8952, D(x): 0.48, D(G(z)): 0.41\n",
      "Epoch [9/50], Step [20/40], d_loss: 1.2864, g_loss: 0.8916, D(x): 0.48, D(G(z)): 0.42\n",
      "Epoch [9/50], Step [21/40], d_loss: 1.2782, g_loss: 0.8882, D(x): 0.49, D(G(z)): 0.42\n",
      "Epoch [9/50], Step [22/40], d_loss: 1.2730, g_loss: 0.8855, D(x): 0.49, D(G(z)): 0.42\n",
      "Epoch [9/50], Step [23/40], d_loss: 1.2723, g_loss: 0.8836, D(x): 0.49, D(G(z)): 0.42\n",
      "Epoch [9/50], Step [24/40], d_loss: 1.2697, g_loss: 0.8797, D(x): 0.50, D(G(z)): 0.42\n",
      "Epoch [9/50], Step [25/40], d_loss: 1.2678, g_loss: 0.8740, D(x): 0.50, D(G(z)): 0.43\n",
      "Epoch [9/50], Step [26/40], d_loss: 1.2700, g_loss: 0.8664, D(x): 0.50, D(G(z)): 0.43\n",
      "Epoch [9/50], Step [27/40], d_loss: 1.2713, g_loss: 0.8562, D(x): 0.51, D(G(z)): 0.44\n",
      "Epoch [9/50], Step [28/40], d_loss: 1.2820, g_loss: 0.8439, D(x): 0.51, D(G(z)): 0.44\n",
      "Epoch [9/50], Step [29/40], d_loss: 1.2915, g_loss: 0.8289, D(x): 0.51, D(G(z)): 0.45\n",
      "Epoch [9/50], Step [30/40], d_loss: 1.3054, g_loss: 0.8142, D(x): 0.51, D(G(z)): 0.46\n",
      "Epoch [9/50], Step [31/40], d_loss: 1.3187, g_loss: 0.8014, D(x): 0.51, D(G(z)): 0.46\n",
      "Epoch [9/50], Step [32/40], d_loss: 1.3363, g_loss: 0.7908, D(x): 0.50, D(G(z)): 0.47\n",
      "Epoch [9/50], Step [33/40], d_loss: 1.3403, g_loss: 0.7830, D(x): 0.51, D(G(z)): 0.47\n",
      "Epoch [9/50], Step [34/40], d_loss: 1.3496, g_loss: 0.7779, D(x): 0.50, D(G(z)): 0.48\n",
      "Epoch [9/50], Step [35/40], d_loss: 1.3488, g_loss: 0.7768, D(x): 0.51, D(G(z)): 0.48\n",
      "Epoch [9/50], Step [36/40], d_loss: 1.3534, g_loss: 0.7789, D(x): 0.50, D(G(z)): 0.48\n",
      "Epoch [9/50], Step [37/40], d_loss: 1.3496, g_loss: 0.7813, D(x): 0.50, D(G(z)): 0.48\n",
      "Epoch [9/50], Step [38/40], d_loss: 1.3439, g_loss: 0.7843, D(x): 0.50, D(G(z)): 0.47\n",
      "Epoch [9/50], Step [39/40], d_loss: 1.3416, g_loss: 0.7896, D(x): 0.50, D(G(z)): 0.47\n",
      "Epoch [9/50], Step [40/40], d_loss: 1.3415, g_loss: 0.7971, D(x): 0.50, D(G(z)): 0.47\n"
     ]
    },
    {
     "data": {
      "image/png": "[encoded data removed]",
      "text/plain": [
       "<Figure size 432x288 with 1 Axes>"
      ]
     },
     "metadata": {
      "needs_background": "light"
     },
     "output_type": "display_data"
    },
    {
     "name": "stdout",
     "output_type": "stream",
     "text": [
      "Epoch [10/50], Step [1/40], d_loss: 1.3031, g_loss: 0.8070, D(x): 0.52, D(G(z)): 0.47\n",
      "Epoch [10/50], Step [2/40], d_loss: 1.3056, g_loss: 0.8201, D(x): 0.51, D(G(z)): 0.46\n",
      "Epoch [10/50], Step [3/40], d_loss: 1.3014, g_loss: 0.8359, D(x): 0.51, D(G(z)): 0.45\n",
      "Epoch [10/50], Step [4/40], d_loss: 1.2971, g_loss: 0.8519, D(x): 0.50, D(G(z)): 0.45\n",
      "Epoch [10/50], Step [5/40], d_loss: 1.2855, g_loss: 0.8666, D(x): 0.50, D(G(z)): 0.44\n",
      "Epoch [10/50], Step [6/40], d_loss: 1.2797, g_loss: 0.8797, D(x): 0.50, D(G(z)): 0.43\n",
      "Epoch [10/50], Step [7/40], d_loss: 1.2759, g_loss: 0.8919, D(x): 0.49, D(G(z)): 0.42\n",
      "Epoch [10/50], Step [8/40], d_loss: 1.2662, g_loss: 0.9029, D(x): 0.49, D(G(z)): 0.42\n",
      "Epoch [10/50], Step [9/40], d_loss: 1.2634, g_loss: 0.9129, D(x): 0.49, D(G(z)): 0.41\n",
      "Epoch [10/50], Step [10/40], d_loss: 1.2515, g_loss: 0.9220, D(x): 0.49, D(G(z)): 0.41\n",
      "Epoch [10/50], Step [11/40], d_loss: 1.2409, g_loss: 0.9308, D(x): 0.49, D(G(z)): 0.41\n",
      "Epoch [10/50], Step [12/40], d_loss: 1.2339, g_loss: 0.9391, D(x): 0.49, D(G(z)): 0.40\n",
      "Epoch [10/50], Step [13/40], d_loss: 1.2285, g_loss: 0.9464, D(x): 0.49, D(G(z)): 0.40\n",
      "Epoch [10/50], Step [14/40], d_loss: 1.2202, g_loss: 0.9525, D(x): 0.50, D(G(z)): 0.40\n",
      "Epoch [10/50], Step [15/40], d_loss: 1.2146, g_loss: 0.9573, D(x): 0.50, D(G(z)): 0.40\n",
      "Epoch [10/50], Step [16/40], d_loss: 1.2156, g_loss: 0.9606, D(x): 0.50, D(G(z)): 0.39\n",
      "Epoch [10/50], Step [17/40], d_loss: 1.2106, g_loss: 0.9613, D(x): 0.50, D(G(z)): 0.39\n",
      "Epoch [10/50], Step [18/40], d_loss: 1.2044, g_loss: 0.9585, D(x): 0.51, D(G(z)): 0.40\n",
      "Epoch [10/50], Step [19/40], d_loss: 1.2031, g_loss: 0.9508, D(x): 0.51, D(G(z)): 0.40\n",
      "Epoch [10/50], Step [20/40], d_loss: 1.2116, g_loss: 0.9369, D(x): 0.51, D(G(z)): 0.41\n",
      "Epoch [10/50], Step [21/40], d_loss: 1.2235, g_loss: 0.9177, D(x): 0.51, D(G(z)): 0.42\n",
      "Epoch [10/50], Step [22/40], d_loss: 1.2365, g_loss: 0.8944, D(x): 0.51, D(G(z)): 0.43\n",
      "Epoch [10/50], Step [23/40], d_loss: 1.2523, g_loss: 0.8680, D(x): 0.52, D(G(z)): 0.44\n",
      "Epoch [10/50], Step [24/40], d_loss: 1.2745, g_loss: 0.8392, D(x): 0.52, D(G(z)): 0.45\n",
      "Epoch [10/50], Step [25/40], d_loss: 1.2946, g_loss: 0.8061, D(x): 0.52, D(G(z)): 0.47\n",
      "Epoch [10/50], Step [26/40], d_loss: 1.3264, g_loss: 0.7725, D(x): 0.52, D(G(z)): 0.48\n",
      "Epoch [10/50], Step [27/40], d_loss: 1.3544, g_loss: 0.7395, D(x): 0.52, D(G(z)): 0.50\n",
      "Epoch [10/50], Step [28/40], d_loss: 1.3895, g_loss: 0.7081, D(x): 0.52, D(G(z)): 0.51\n",
      "Epoch [10/50], Step [29/40], d_loss: 1.4179, g_loss: 0.6823, D(x): 0.52, D(G(z)): 0.53\n",
      "Epoch [10/50], Step [30/40], d_loss: 1.4412, g_loss: 0.6622, D(x): 0.52, D(G(z)): 0.54\n",
      "Epoch [10/50], Step [31/40], d_loss: 1.4666, g_loss: 0.6468, D(x): 0.52, D(G(z)): 0.55\n",
      "Epoch [10/50], Step [32/40], d_loss: 1.4774, g_loss: 0.6386, D(x): 0.51, D(G(z)): 0.55\n",
      "Epoch [10/50], Step [33/40], d_loss: 1.4805, g_loss: 0.6409, D(x): 0.51, D(G(z)): 0.55\n",
      "Epoch [10/50], Step [34/40], d_loss: 1.4722, g_loss: 0.6488, D(x): 0.51, D(G(z)): 0.54\n",
      "Epoch [10/50], Step [35/40], d_loss: 1.4579, g_loss: 0.6611, D(x): 0.51, D(G(z)): 0.54\n",
      "Epoch [10/50], Step [36/40], d_loss: 1.4498, g_loss: 0.6782, D(x): 0.51, D(G(z)): 0.53\n",
      "Epoch [10/50], Step [37/40], d_loss: 1.4334, g_loss: 0.6988, D(x): 0.50, D(G(z)): 0.52\n",
      "Epoch [10/50], Step [38/40], d_loss: 1.4122, g_loss: 0.7207, D(x): 0.50, D(G(z)): 0.51\n",
      "Epoch [10/50], Step [39/40], d_loss: 1.3986, g_loss: 0.7444, D(x): 0.50, D(G(z)): 0.50\n",
      "Epoch [10/50], Step [40/40], d_loss: 1.3814, g_loss: 0.7683, D(x): 0.49, D(G(z)): 0.49\n"
     ]
    },
    {
     "data": {
      "image/png": "[encoded data removed]",
      "text/plain": [
       "<Figure size 432x288 with 1 Axes>"
      ]
     },
     "metadata": {
      "needs_background": "light"
     },
     "output_type": "display_data"
    },
    {
     "name": "stdout",
     "output_type": "stream",
     "text": [
      "Epoch [11/50], Step [1/40], d_loss: 1.3782, g_loss: 0.7891, D(x): 0.49, D(G(z)): 0.47\n",
      "Epoch [11/50], Step [2/40], d_loss: 1.3599, g_loss: 0.8062, D(x): 0.49, D(G(z)): 0.46\n",
      "Epoch [11/50], Step [3/40], d_loss: 1.3486, g_loss: 0.8178, D(x): 0.48, D(G(z)): 0.45\n",
      "Epoch [11/50], Step [4/40], d_loss: 1.3392, g_loss: 0.8272, D(x): 0.48, D(G(z)): 0.45\n",
      "Epoch [11/50], Step [5/40], d_loss: 1.3338, g_loss: 0.8341, D(x): 0.48, D(G(z)): 0.45\n",
      "Epoch [11/50], Step [6/40], d_loss: 1.3371, g_loss: 0.8397, D(x): 0.48, D(G(z)): 0.44\n",
      "Epoch [11/50], Step [7/40], d_loss: 1.3278, g_loss: 0.8441, D(x): 0.48, D(G(z)): 0.44\n",
      "Epoch [11/50], Step [8/40], d_loss: 1.3234, g_loss: 0.8476, D(x): 0.48, D(G(z)): 0.44\n",
      "Epoch [11/50], Step [9/40], d_loss: 1.3218, g_loss: 0.8498, D(x): 0.48, D(G(z)): 0.44\n",
      "Epoch [11/50], Step [10/40], d_loss: 1.3127, g_loss: 0.8523, D(x): 0.48, D(G(z)): 0.44\n",
      "Epoch [11/50], Step [11/40], d_loss: 1.3028, g_loss: 0.8558, D(x): 0.49, D(G(z)): 0.44\n",
      "Epoch [11/50], Step [12/40], d_loss: 1.2951, g_loss: 0.8601, D(x): 0.49, D(G(z)): 0.43\n",
      "Epoch [11/50], Step [13/40], d_loss: 1.2921, g_loss: 0.8654, D(x): 0.49, D(G(z)): 0.43\n",
      "Epoch [11/50], Step [14/40], d_loss: 1.2837, g_loss: 0.8721, D(x): 0.49, D(G(z)): 0.43\n",
      "Epoch [11/50], Step [15/40], d_loss: 1.2754, g_loss: 0.8795, D(x): 0.49, D(G(z)): 0.43\n",
      "Epoch [11/50], Step [16/40], d_loss: 1.2687, g_loss: 0.8878, D(x): 0.50, D(G(z)): 0.42\n",
      "Epoch [11/50], Step [17/40], d_loss: 1.2585, g_loss: 0.8962, D(x): 0.50, D(G(z)): 0.42\n",
      "Epoch [11/50], Step [18/40], d_loss: 1.2453, g_loss: 0.9044, D(x): 0.50, D(G(z)): 0.42\n",
      "Epoch [11/50], Step [19/40], d_loss: 1.2353, g_loss: 0.9125, D(x): 0.50, D(G(z)): 0.41\n",
      "Epoch [11/50], Step [20/40], d_loss: 1.2298, g_loss: 0.9188, D(x): 0.50, D(G(z)): 0.41\n",
      "Epoch [11/50], Step [21/40], d_loss: 1.2208, g_loss: 0.9249, D(x): 0.50, D(G(z)): 0.41\n",
      "Epoch [11/50], Step [22/40], d_loss: 1.2149, g_loss: 0.9295, D(x): 0.51, D(G(z)): 0.41\n",
      "Epoch [11/50], Step [23/40], d_loss: 1.2032, g_loss: 0.9340, D(x): 0.51, D(G(z)): 0.40\n",
      "Epoch [11/50], Step [24/40], d_loss: 1.1979, g_loss: 0.9366, D(x): 0.51, D(G(z)): 0.40\n",
      "Epoch [11/50], Step [25/40], d_loss: 1.1887, g_loss: 0.9376, D(x): 0.52, D(G(z)): 0.40\n",
      "Epoch [11/50], Step [26/40], d_loss: 1.1857, g_loss: 0.9364, D(x): 0.52, D(G(z)): 0.40\n",
      "Epoch [11/50], Step [27/40], d_loss: 1.1840, g_loss: 0.9332, D(x): 0.52, D(G(z)): 0.41\n",
      "Epoch [11/50], Step [28/40], d_loss: 1.1855, g_loss: 0.9271, D(x): 0.52, D(G(z)): 0.41\n",
      "Epoch [11/50], Step [29/40], d_loss: 1.1911, g_loss: 0.9188, D(x): 0.52, D(G(z)): 0.41\n",
      "Epoch [11/50], Step [30/40], d_loss: 1.1920, g_loss: 0.9074, D(x): 0.53, D(G(z)): 0.42\n",
      "Epoch [11/50], Step [31/40], d_loss: 1.1923, g_loss: 0.8943, D(x): 0.53, D(G(z)): 0.42\n",
      "Epoch [11/50], Step [32/40], d_loss: 1.1983, g_loss: 0.8785, D(x): 0.53, D(G(z)): 0.43\n",
      "Epoch [11/50], Step [33/40], d_loss: 1.2058, g_loss: 0.8623, D(x): 0.54, D(G(z)): 0.43\n",
      "Epoch [11/50], Step [34/40], d_loss: 1.2161, g_loss: 0.8469, D(x): 0.54, D(G(z)): 0.44\n",
      "Epoch [11/50], Step [35/40], d_loss: 1.2203, g_loss: 0.8315, D(x): 0.54, D(G(z)): 0.45\n",
      "Epoch [11/50], Step [36/40], d_loss: 1.2366, g_loss: 0.8158, D(x): 0.54, D(G(z)): 0.46\n",
      "Epoch [11/50], Step [37/40], d_loss: 1.2475, g_loss: 0.8000, D(x): 0.54, D(G(z)): 0.46\n",
      "Epoch [11/50], Step [38/40], d_loss: 1.2483, g_loss: 0.7859, D(x): 0.55, D(G(z)): 0.47\n",
      "Epoch [11/50], Step [39/40], d_loss: 1.2588, g_loss: 0.7731, D(x): 0.55, D(G(z)): 0.47\n",
      "Epoch [11/50], Step [40/40], d_loss: 1.2625, g_loss: 0.7629, D(x): 0.55, D(G(z)): 0.48\n"
     ]
    },
    {
     "data": {
      "image/png": "[encoded data removed]",
      "text/plain": [
       "<Figure size 432x288 with 1 Axes>"
      ]
     },
     "metadata": {
      "needs_background": "light"
     },
     "output_type": "display_data"
    },
    {
     "name": "stdout",
     "output_type": "stream",
     "text": [
      "Epoch [12/50], Step [1/40], d_loss: 1.2789, g_loss: 0.7543, D(x): 0.55, D(G(z)): 0.48\n",
      "Epoch [12/50], Step [2/40], d_loss: 1.2779, g_loss: 0.7465, D(x): 0.55, D(G(z)): 0.49\n",
      "Epoch [12/50], Step [3/40], d_loss: 1.2788, g_loss: 0.7393, D(x): 0.55, D(G(z)): 0.49\n",
      "Epoch [12/50], Step [4/40], d_loss: 1.2772, g_loss: 0.7334, D(x): 0.56, D(G(z)): 0.49\n",
      "Epoch [12/50], Step [5/40], d_loss: 1.2793, g_loss: 0.7295, D(x): 0.56, D(G(z)): 0.50\n",
      "Epoch [12/50], Step [6/40], d_loss: 1.2922, g_loss: 0.7256, D(x): 0.56, D(G(z)): 0.50\n",
      "Epoch [12/50], Step [7/40], d_loss: 1.2918, g_loss: 0.7226, D(x): 0.56, D(G(z)): 0.50\n",
      "Epoch [12/50], Step [8/40], d_loss: 1.2867, g_loss: 0.7197, D(x): 0.56, D(G(z)): 0.50\n",
      "Epoch [12/50], Step [9/40], d_loss: 1.2952, g_loss: 0.7174, D(x): 0.56, D(G(z)): 0.50\n",
      "Epoch [12/50], Step [10/40], d_loss: 1.2904, g_loss: 0.7145, D(x): 0.56, D(G(z)): 0.51\n",
      "Epoch [12/50], Step [11/40], d_loss: 1.2913, g_loss: 0.7130, D(x): 0.57, D(G(z)): 0.51\n",
      "Epoch [12/50], Step [12/40], d_loss: 1.2923, g_loss: 0.7102, D(x): 0.57, D(G(z)): 0.51\n",
      "Epoch [12/50], Step [13/40], d_loss: 1.2958, g_loss: 0.7079, D(x): 0.57, D(G(z)): 0.51\n",
      "Epoch [12/50], Step [14/40], d_loss: 1.2978, g_loss: 0.7048, D(x): 0.57, D(G(z)): 0.51\n",
      "Epoch [12/50], Step [15/40], d_loss: 1.2989, g_loss: 0.7012, D(x): 0.57, D(G(z)): 0.51\n",
      "Epoch [12/50], Step [16/40], d_loss: 1.2990, g_loss: 0.7000, D(x): 0.57, D(G(z)): 0.51\n",
      "Epoch [12/50], Step [17/40], d_loss: 1.3087, g_loss: 0.6975, D(x): 0.57, D(G(z)): 0.51\n",
      "Epoch [12/50], Step [18/40], d_loss: 1.3030, g_loss: 0.6989, D(x): 0.57, D(G(z)): 0.51\n",
      "Epoch [12/50], Step [19/40], d_loss: 1.3001, g_loss: 0.7017, D(x): 0.57, D(G(z)): 0.51\n",
      "Epoch [12/50], Step [20/40], d_loss: 1.2933, g_loss: 0.7047, D(x): 0.57, D(G(z)): 0.51\n",
      "Epoch [12/50], Step [21/40], d_loss: 1.2892, g_loss: 0.7105, D(x): 0.57, D(G(z)): 0.51\n",
      "Epoch [12/50], Step [22/40], d_loss: 1.2876, g_loss: 0.7184, D(x): 0.57, D(G(z)): 0.50\n",
      "Epoch [12/50], Step [23/40], d_loss: 1.2848, g_loss: 0.7264, D(x): 0.56, D(G(z)): 0.50\n",
      "Epoch [12/50], Step [24/40], d_loss: 1.2751, g_loss: 0.7346, D(x): 0.56, D(G(z)): 0.49\n",
      "Epoch [12/50], Step [25/40], d_loss: 1.2646, g_loss: 0.7424, D(x): 0.56, D(G(z)): 0.49\n",
      "Epoch [12/50], Step [26/40], d_loss: 1.2648, g_loss: 0.7496, D(x): 0.56, D(G(z)): 0.49\n",
      "Epoch [12/50], Step [27/40], d_loss: 1.2537, g_loss: 0.7582, D(x): 0.56, D(G(z)): 0.48\n",
      "Epoch [12/50], Step [28/40], d_loss: 1.2493, g_loss: 0.7650, D(x): 0.56, D(G(z)): 0.48\n",
      "Epoch [12/50], Step [29/40], d_loss: 1.2459, g_loss: 0.7717, D(x): 0.56, D(G(z)): 0.48\n",
      "Epoch [12/50], Step [30/40], d_loss: 1.2405, g_loss: 0.7750, D(x): 0.56, D(G(z)): 0.47\n",
      "Epoch [12/50], Step [31/40], d_loss: 1.2305, g_loss: 0.7790, D(x): 0.57, D(G(z)): 0.47\n",
      "Epoch [12/50], Step [32/40], d_loss: 1.2286, g_loss: 0.7849, D(x): 0.56, D(G(z)): 0.47\n",
      "Epoch [12/50], Step [33/40], d_loss: 1.2184, g_loss: 0.7852, D(x): 0.57, D(G(z)): 0.47\n",
      "Epoch [12/50], Step [34/40], d_loss: 1.2202, g_loss: 0.7878, D(x): 0.57, D(G(z)): 0.47\n",
      "Epoch [12/50], Step [35/40], d_loss: 1.2105, g_loss: 0.7864, D(x): 0.57, D(G(z)): 0.47\n",
      "Epoch [12/50], Step [36/40], d_loss: 1.2233, g_loss: 0.7855, D(x): 0.57, D(G(z)): 0.47\n",
      "Epoch [12/50], Step [37/40], d_loss: 1.2186, g_loss: 0.7859, D(x): 0.57, D(G(z)): 0.47\n",
      "Epoch [12/50], Step [38/40], d_loss: 1.2068, g_loss: 0.7811, D(x): 0.58, D(G(z)): 0.47\n",
      "Epoch [12/50], Step [39/40], d_loss: 1.2000, g_loss: 0.7801, D(x): 0.58, D(G(z)): 0.47\n",
      "Epoch [12/50], Step [40/40], d_loss: 1.2016, g_loss: 0.7771, D(x): 0.58, D(G(z)): 0.47\n"
     ]
    },
    {
     "data": {
      "image/png": "[encoded data removed]",
      "text/plain": [
       "<Figure size 432x288 with 1 Axes>"
      ]
     },
     "metadata": {
      "needs_background": "light"
     },
     "output_type": "display_data"
    },
    {
     "name": "stdout",
     "output_type": "stream",
     "text": [
      "Epoch [13/50], Step [1/40], d_loss: 1.1332, g_loss: 0.7774, D(x): 0.62, D(G(z)): 0.47\n",
      "Epoch [13/50], Step [2/40], d_loss: 1.1525, g_loss: 0.7755, D(x): 0.62, D(G(z)): 0.48\n",
      "Epoch [13/50], Step [3/40], d_loss: 1.1473, g_loss: 0.7737, D(x): 0.62, D(G(z)): 0.47\n",
      "Epoch [13/50], Step [4/40], d_loss: 1.1523, g_loss: 0.7739, D(x): 0.62, D(G(z)): 0.47\n",
      "Epoch [13/50], Step [5/40], d_loss: 1.1474, g_loss: 0.7778, D(x): 0.62, D(G(z)): 0.47\n",
      "Epoch [13/50], Step [6/40], d_loss: 1.1487, g_loss: 0.7796, D(x): 0.62, D(G(z)): 0.47\n",
      "Epoch [13/50], Step [7/40], d_loss: 1.1560, g_loss: 0.7790, D(x): 0.61, D(G(z)): 0.47\n",
      "Epoch [13/50], Step [8/40], d_loss: 1.1483, g_loss: 0.7852, D(x): 0.61, D(G(z)): 0.47\n",
      "Epoch [13/50], Step [9/40], d_loss: 1.1509, g_loss: 0.7907, D(x): 0.61, D(G(z)): 0.47\n",
      "Epoch [13/50], Step [10/40], d_loss: 1.1380, g_loss: 0.7946, D(x): 0.61, D(G(z)): 0.47\n",
      "Epoch [13/50], Step [11/40], d_loss: 1.1347, g_loss: 0.8062, D(x): 0.61, D(G(z)): 0.46\n",
      "Epoch [13/50], Step [12/40], d_loss: 1.1213, g_loss: 0.8161, D(x): 0.62, D(G(z)): 0.46\n",
      "Epoch [13/50], Step [13/40], d_loss: 1.1145, g_loss: 0.8263, D(x): 0.61, D(G(z)): 0.45\n",
      "Epoch [13/50], Step [14/40], d_loss: 1.1040, g_loss: 0.8342, D(x): 0.62, D(G(z)): 0.45\n",
      "Epoch [13/50], Step [15/40], d_loss: 1.0949, g_loss: 0.8463, D(x): 0.62, D(G(z)): 0.45\n",
      "Epoch [13/50], Step [16/40], d_loss: 1.0851, g_loss: 0.8576, D(x): 0.61, D(G(z)): 0.44\n",
      "Epoch [13/50], Step [17/40], d_loss: 1.0758, g_loss: 0.8715, D(x): 0.61, D(G(z)): 0.43\n",
      "Epoch [13/50], Step [18/40], d_loss: 1.0699, g_loss: 0.8838, D(x): 0.61, D(G(z)): 0.43\n",
      "Epoch [13/50], Step [19/40], d_loss: 1.0557, g_loss: 0.8947, D(x): 0.62, D(G(z)): 0.42\n",
      "Epoch [13/50], Step [20/40], d_loss: 1.0407, g_loss: 0.9056, D(x): 0.62, D(G(z)): 0.42\n",
      "Epoch [13/50], Step [21/40], d_loss: 1.0308, g_loss: 0.9175, D(x): 0.62, D(G(z)): 0.41\n",
      "Epoch [13/50], Step [22/40], d_loss: 1.0188, g_loss: 0.9269, D(x): 0.62, D(G(z)): 0.41\n",
      "Epoch [13/50], Step [23/40], d_loss: 1.0086, g_loss: 0.9402, D(x): 0.62, D(G(z)): 0.40\n",
      "Epoch [13/50], Step [24/40], d_loss: 1.0033, g_loss: 0.9501, D(x): 0.62, D(G(z)): 0.40\n",
      "Epoch [13/50], Step [25/40], d_loss: 0.9835, g_loss: 0.9655, D(x): 0.63, D(G(z)): 0.40\n",
      "Epoch [13/50], Step [26/40], d_loss: 0.9738, g_loss: 0.9759, D(x): 0.63, D(G(z)): 0.39\n",
      "Epoch [13/50], Step [27/40], d_loss: 0.9655, g_loss: 0.9864, D(x): 0.64, D(G(z)): 0.39\n",
      "Epoch [13/50], Step [28/40], d_loss: 0.9565, g_loss: 0.9971, D(x): 0.64, D(G(z)): 0.38\n",
      "Epoch [13/50], Step [29/40], d_loss: 0.9433, g_loss: 1.0079, D(x): 0.64, D(G(z)): 0.38\n",
      "Epoch [13/50], Step [30/40], d_loss: 0.9434, g_loss: 1.0170, D(x): 0.64, D(G(z)): 0.38\n",
      "Epoch [13/50], Step [31/40], d_loss: 0.9394, g_loss: 1.0201, D(x): 0.64, D(G(z)): 0.38\n",
      "Epoch [13/50], Step [32/40], d_loss: 0.9446, g_loss: 1.0212, D(x): 0.65, D(G(z)): 0.38\n",
      "Epoch [13/50], Step [33/40], d_loss: 0.9472, g_loss: 1.0155, D(x): 0.65, D(G(z)): 0.39\n",
      "Epoch [13/50], Step [34/40], d_loss: 0.9580, g_loss: 1.0064, D(x): 0.65, D(G(z)): 0.39\n",
      "Epoch [13/50], Step [35/40], d_loss: 0.9573, g_loss: 1.0014, D(x): 0.66, D(G(z)): 0.40\n",
      "Epoch [13/50], Step [36/40], d_loss: 0.9738, g_loss: 0.9883, D(x): 0.66, D(G(z)): 0.41\n",
      "Epoch [13/50], Step [37/40], d_loss: 0.9861, g_loss: 0.9791, D(x): 0.66, D(G(z)): 0.41\n",
      "Epoch [13/50], Step [38/40], d_loss: 0.9902, g_loss: 0.9744, D(x): 0.66, D(G(z)): 0.42\n",
      "Epoch [13/50], Step [39/40], d_loss: 0.9974, g_loss: 0.9713, D(x): 0.66, D(G(z)): 0.42\n",
      "Epoch [13/50], Step [40/40], d_loss: 1.0045, g_loss: 0.9790, D(x): 0.66, D(G(z)): 0.42\n"
     ]
    },
    {
     "data": {
      "image/png": "[encoded data removed]",
      "text/plain": [
       "<Figure size 432x288 with 1 Axes>"
      ]
     },
     "metadata": {
      "needs_background": "light"
     },
     "output_type": "display_data"
    },
    {
     "name": "stdout",
     "output_type": "stream",
     "text": [
      "Epoch [14/50], Step [1/40], d_loss: 0.9875, g_loss: 0.9883, D(x): 0.67, D(G(z)): 0.42\n",
      "Epoch [14/50], Step [2/40], d_loss: 0.9985, g_loss: 1.0031, D(x): 0.66, D(G(z)): 0.42\n",
      "Epoch [14/50], Step [3/40], d_loss: 1.0094, g_loss: 1.0100, D(x): 0.65, D(G(z)): 0.41\n",
      "Epoch [14/50], Step [4/40], d_loss: 1.0087, g_loss: 1.0285, D(x): 0.65, D(G(z)): 0.41\n",
      "Epoch [14/50], Step [5/40], d_loss: 1.0032, g_loss: 1.0467, D(x): 0.64, D(G(z)): 0.40\n",
      "Epoch [14/50], Step [6/40], d_loss: 1.0040, g_loss: 1.0795, D(x): 0.63, D(G(z)): 0.39\n",
      "Epoch [14/50], Step [7/40], d_loss: 0.9948, g_loss: 1.0955, D(x): 0.63, D(G(z)): 0.39\n",
      "Epoch [14/50], Step [8/40], d_loss: 0.9888, g_loss: 1.1189, D(x): 0.62, D(G(z)): 0.38\n",
      "Epoch [14/50], Step [9/40], d_loss: 0.9777, g_loss: 1.1417, D(x): 0.62, D(G(z)): 0.36\n",
      "Epoch [14/50], Step [10/40], d_loss: 0.9635, g_loss: 1.1720, D(x): 0.62, D(G(z)): 0.36\n",
      "Epoch [14/50], Step [11/40], d_loss: 0.9404, g_loss: 1.1907, D(x): 0.62, D(G(z)): 0.35\n",
      "Epoch [14/50], Step [12/40], d_loss: 0.9333, g_loss: 1.2069, D(x): 0.62, D(G(z)): 0.34\n",
      "Epoch [14/50], Step [13/40], d_loss: 0.9248, g_loss: 1.2245, D(x): 0.62, D(G(z)): 0.33\n",
      "Epoch [14/50], Step [14/40], d_loss: 0.9216, g_loss: 1.2246, D(x): 0.62, D(G(z)): 0.33\n",
      "Epoch [14/50], Step [15/40], d_loss: 0.9268, g_loss: 1.2228, D(x): 0.61, D(G(z)): 0.33\n",
      "Epoch [14/50], Step [16/40], d_loss: 0.9138, g_loss: 1.2276, D(x): 0.62, D(G(z)): 0.33\n",
      "Epoch [14/50], Step [17/40], d_loss: 0.9025, g_loss: 1.2300, D(x): 0.62, D(G(z)): 0.32\n",
      "Epoch [14/50], Step [18/40], d_loss: 0.8915, g_loss: 1.2397, D(x): 0.63, D(G(z)): 0.32\n",
      "Epoch [14/50], Step [19/40], d_loss: 0.8771, g_loss: 1.2477, D(x): 0.64, D(G(z)): 0.32\n",
      "Epoch [14/50], Step [20/40], d_loss: 0.8627, g_loss: 1.2647, D(x): 0.64, D(G(z)): 0.32\n",
      "Epoch [14/50], Step [21/40], d_loss: 0.8415, g_loss: 1.2830, D(x): 0.65, D(G(z)): 0.31\n",
      "Epoch [14/50], Step [22/40], d_loss: 0.8211, g_loss: 1.2910, D(x): 0.66, D(G(z)): 0.31\n",
      "Epoch [14/50], Step [23/40], d_loss: 0.8004, g_loss: 1.2988, D(x): 0.67, D(G(z)): 0.31\n",
      "Epoch [14/50], Step [24/40], d_loss: 0.8019, g_loss: 1.2948, D(x): 0.68, D(G(z)): 0.31\n",
      "Epoch [14/50], Step [25/40], d_loss: 0.7983, g_loss: 1.2737, D(x): 0.69, D(G(z)): 0.32\n",
      "Epoch [14/50], Step [26/40], d_loss: 0.8165, g_loss: 1.2400, D(x): 0.69, D(G(z)): 0.33\n",
      "Epoch [14/50], Step [27/40], d_loss: 0.8386, g_loss: 1.1903, D(x): 0.70, D(G(z)): 0.35\n",
      "Epoch [14/50], Step [28/40], d_loss: 0.8706, g_loss: 1.1301, D(x): 0.71, D(G(z)): 0.38\n",
      "Epoch [14/50], Step [29/40], d_loss: 0.9230, g_loss: 1.0685, D(x): 0.71, D(G(z)): 0.41\n",
      "Epoch [14/50], Step [30/40], d_loss: 0.9469, g_loss: 1.0367, D(x): 0.71, D(G(z)): 0.42\n",
      "Epoch [14/50], Step [31/40], d_loss: 0.9782, g_loss: 1.0198, D(x): 0.71, D(G(z)): 0.44\n",
      "Epoch [14/50], Step [32/40], d_loss: 0.9861, g_loss: 1.0202, D(x): 0.71, D(G(z)): 0.44\n",
      "Epoch [14/50], Step [33/40], d_loss: 0.9843, g_loss: 1.0392, D(x): 0.71, D(G(z)): 0.44\n",
      "Epoch [14/50], Step [34/40], d_loss: 0.9884, g_loss: 1.0608, D(x): 0.69, D(G(z)): 0.43\n",
      "Epoch [14/50], Step [35/40], d_loss: 0.9865, g_loss: 1.0850, D(x): 0.69, D(G(z)): 0.43\n",
      "Epoch [14/50], Step [36/40], d_loss: 1.0067, g_loss: 1.0952, D(x): 0.67, D(G(z)): 0.42\n",
      "Epoch [14/50], Step [37/40], d_loss: 1.0416, g_loss: 1.0798, D(x): 0.65, D(G(z)): 0.42\n",
      "Epoch [14/50], Step [38/40], d_loss: 1.0886, g_loss: 1.0397, D(x): 0.64, D(G(z)): 0.44\n",
      "Epoch [14/50], Step [39/40], d_loss: 1.1542, g_loss: 0.9844, D(x): 0.63, D(G(z)): 0.46\n",
      "Epoch [14/50], Step [40/40], d_loss: 1.2165, g_loss: 0.9301, D(x): 0.61, D(G(z)): 0.48\n"
     ]
    },
    {
     "data": {
      "image/png": "[encoded data removed]",
      "text/plain": [
       "<Figure size 432x288 with 1 Axes>"
      ]
     },
     "metadata": {
      "needs_background": "light"
     },
     "output_type": "display_data"
    },
    {
     "name": "stdout",
     "output_type": "stream",
     "text": [
      "Epoch [15/50], Step [1/40], d_loss: 1.2263, g_loss: 0.8866, D(x): 0.63, D(G(z)): 0.50\n",
      "Epoch [15/50], Step [2/40], d_loss: 1.3157, g_loss: 0.8509, D(x): 0.60, D(G(z)): 0.52\n",
      "Epoch [15/50], Step [3/40], d_loss: 1.3751, g_loss: 0.8345, D(x): 0.58, D(G(z)): 0.53\n",
      "Epoch [15/50], Step [4/40], d_loss: 1.4350, g_loss: 0.8305, D(x): 0.55, D(G(z)): 0.53\n",
      "Epoch [15/50], Step [5/40], d_loss: 1.4555, g_loss: 0.8496, D(x): 0.53, D(G(z)): 0.52\n",
      "Epoch [15/50], Step [6/40], d_loss: 1.4507, g_loss: 0.8905, D(x): 0.51, D(G(z)): 0.51\n",
      "Epoch [15/50], Step [7/40], d_loss: 1.4484, g_loss: 0.9344, D(x): 0.49, D(G(z)): 0.48\n",
      "Epoch [15/50], Step [8/40], d_loss: 1.4602, g_loss: 0.9682, D(x): 0.47, D(G(z)): 0.47\n",
      "Epoch [15/50], Step [9/40], d_loss: 1.4508, g_loss: 0.9853, D(x): 0.47, D(G(z)): 0.45\n",
      "Epoch [15/50], Step [10/40], d_loss: 1.4681, g_loss: 0.9844, D(x): 0.46, D(G(z)): 0.45\n",
      "Epoch [15/50], Step [11/40], d_loss: 1.5037, g_loss: 0.9687, D(x): 0.45, D(G(z)): 0.45\n",
      "Epoch [15/50], Step [12/40], d_loss: 1.5238, g_loss: 0.9539, D(x): 0.44, D(G(z)): 0.45\n",
      "Epoch [15/50], Step [13/40], d_loss: 1.5346, g_loss: 0.9347, D(x): 0.44, D(G(z)): 0.46\n",
      "Epoch [15/50], Step [14/40], d_loss: 1.5435, g_loss: 0.9164, D(x): 0.44, D(G(z)): 0.46\n",
      "Epoch [15/50], Step [15/40], d_loss: 1.5726, g_loss: 0.8907, D(x): 0.44, D(G(z)): 0.47\n",
      "Epoch [15/50], Step [16/40], d_loss: 1.5888, g_loss: 0.8682, D(x): 0.44, D(G(z)): 0.48\n",
      "Epoch [15/50], Step [17/40], d_loss: 1.6186, g_loss: 0.8533, D(x): 0.43, D(G(z)): 0.49\n",
      "Epoch [15/50], Step [18/40], d_loss: 1.6315, g_loss: 0.8412, D(x): 0.44, D(G(z)): 0.50\n",
      "Epoch [15/50], Step [19/40], d_loss: 1.6260, g_loss: 0.8340, D(x): 0.44, D(G(z)): 0.50\n",
      "Epoch [15/50], Step [20/40], d_loss: 1.6215, g_loss: 0.8517, D(x): 0.44, D(G(z)): 0.50\n",
      "Epoch [15/50], Step [21/40], d_loss: 1.5950, g_loss: 0.8767, D(x): 0.45, D(G(z)): 0.49\n",
      "Epoch [15/50], Step [22/40], d_loss: 1.5688, g_loss: 0.9226, D(x): 0.44, D(G(z)): 0.48\n",
      "Epoch [15/50], Step [23/40], d_loss: 1.5421, g_loss: 0.9929, D(x): 0.44, D(G(z)): 0.46\n",
      "Epoch [15/50], Step [24/40], d_loss: 1.4672, g_loss: 1.0970, D(x): 0.43, D(G(z)): 0.42\n",
      "Epoch [15/50], Step [25/40], d_loss: 1.3949, g_loss: 1.2198, D(x): 0.43, D(G(z)): 0.37\n",
      "Epoch [15/50], Step [26/40], d_loss: 1.3253, g_loss: 1.3490, D(x): 0.43, D(G(z)): 0.32\n",
      "Epoch [15/50], Step [27/40], d_loss: 1.2544, g_loss: 1.4723, D(x): 0.43, D(G(z)): 0.28\n",
      "Epoch [15/50], Step [28/40], d_loss: 1.2067, g_loss: 1.5824, D(x): 0.43, D(G(z)): 0.24\n",
      "Epoch [15/50], Step [29/40], d_loss: 1.1476, g_loss: 1.6743, D(x): 0.44, D(G(z)): 0.21\n",
      "Epoch [15/50], Step [30/40], d_loss: 1.1203, g_loss: 1.7508, D(x): 0.44, D(G(z)): 0.19\n",
      "Epoch [15/50], Step [31/40], d_loss: 1.0581, g_loss: 1.8143, D(x): 0.46, D(G(z)): 0.18\n",
      "Epoch [15/50], Step [32/40], d_loss: 1.0280, g_loss: 1.8675, D(x): 0.47, D(G(z)): 0.17\n",
      "Epoch [15/50], Step [33/40], d_loss: 0.9582, g_loss: 1.9123, D(x): 0.49, D(G(z)): 0.16\n",
      "Epoch [15/50], Step [34/40], d_loss: 0.9385, g_loss: 1.9456, D(x): 0.50, D(G(z)): 0.15\n",
      "Epoch [15/50], Step [35/40], d_loss: 0.8629, g_loss: 1.9707, D(x): 0.53, D(G(z)): 0.14\n",
      "Epoch [15/50], Step [36/40], d_loss: 0.8400, g_loss: 1.9888, D(x): 0.54, D(G(z)): 0.14\n",
      "Epoch [15/50], Step [37/40], d_loss: 0.7891, g_loss: 2.0009, D(x): 0.56, D(G(z)): 0.14\n",
      "Epoch [15/50], Step [38/40], d_loss: 0.7266, g_loss: 2.0092, D(x): 0.59, D(G(z)): 0.14\n",
      "Epoch [15/50], Step [39/40], d_loss: 0.6740, g_loss: 2.0133, D(x): 0.62, D(G(z)): 0.13\n",
      "Epoch [15/50], Step [40/40], d_loss: 0.6424, g_loss: 2.0119, D(x): 0.64, D(G(z)): 0.13\n"
     ]
    },
    {
     "data": {
      "image/png": "[encoded data removed]",
      "text/plain": [
       "<Figure size 432x288 with 1 Axes>"
      ]
     },
     "metadata": {
      "needs_background": "light"
     },
     "output_type": "display_data"
    },
    {
     "name": "stdout",
     "output_type": "stream",
     "text": [
      "Epoch [16/50], Step [1/40], d_loss: 0.4959, g_loss: 2.0068, D(x): 0.72, D(G(z)): 0.14\n",
      "Epoch [16/50], Step [2/40], d_loss: 0.5045, g_loss: 1.9692, D(x): 0.72, D(G(z)): 0.14\n",
      "Epoch [16/50], Step [3/40], d_loss: 0.4928, g_loss: 1.8883, D(x): 0.74, D(G(z)): 0.15\n",
      "Epoch [16/50], Step [4/40], d_loss: 0.5239, g_loss: 1.6555, D(x): 0.75, D(G(z)): 0.19\n",
      "Epoch [16/50], Step [5/40], d_loss: 0.6256, g_loss: 1.3017, D(x): 0.76, D(G(z)): 0.28\n",
      "Epoch [16/50], Step [6/40], d_loss: 0.7619, g_loss: 1.0220, D(x): 0.77, D(G(z)): 0.38\n",
      "Epoch [16/50], Step [7/40], d_loss: 0.8654, g_loss: 0.8945, D(x): 0.77, D(G(z)): 0.43\n",
      "Epoch [16/50], Step [8/40], d_loss: 0.9162, g_loss: 0.8542, D(x): 0.78, D(G(z)): 0.46\n",
      "Epoch [16/50], Step [9/40], d_loss: 0.9304, g_loss: 0.8487, D(x): 0.78, D(G(z)): 0.47\n",
      "Epoch [16/50], Step [10/40], d_loss: 0.9174, g_loss: 0.8757, D(x): 0.78, D(G(z)): 0.46\n",
      "Epoch [16/50], Step [11/40], d_loss: 0.9054, g_loss: 0.9178, D(x): 0.78, D(G(z)): 0.45\n",
      "Epoch [16/50], Step [12/40], d_loss: 0.8818, g_loss: 0.9519, D(x): 0.78, D(G(z)): 0.43\n",
      "Epoch [16/50], Step [13/40], d_loss: 0.8554, g_loss: 1.0061, D(x): 0.78, D(G(z)): 0.42\n",
      "Epoch [16/50], Step [14/40], d_loss: 0.8269, g_loss: 1.0481, D(x): 0.78, D(G(z)): 0.40\n",
      "Epoch [16/50], Step [15/40], d_loss: 0.8014, g_loss: 1.1053, D(x): 0.77, D(G(z)): 0.38\n",
      "Epoch [16/50], Step [16/40], d_loss: 0.7722, g_loss: 1.1672, D(x): 0.77, D(G(z)): 0.37\n",
      "Epoch [16/50], Step [17/40], d_loss: 0.7614, g_loss: 1.2204, D(x): 0.76, D(G(z)): 0.35\n",
      "Epoch [16/50], Step [18/40], d_loss: 0.7426, g_loss: 1.2962, D(x): 0.75, D(G(z)): 0.33\n",
      "Epoch [16/50], Step [19/40], d_loss: 0.7089, g_loss: 1.3481, D(x): 0.75, D(G(z)): 0.31\n",
      "Epoch [16/50], Step [20/40], d_loss: 0.6866, g_loss: 1.4117, D(x): 0.75, D(G(z)): 0.30\n",
      "Epoch [16/50], Step [21/40], d_loss: 0.6692, g_loss: 1.4662, D(x): 0.75, D(G(z)): 0.28\n",
      "Epoch [16/50], Step [22/40], d_loss: 0.6488, g_loss: 1.5357, D(x): 0.74, D(G(z)): 0.26\n",
      "Epoch [16/50], Step [23/40], d_loss: 0.6531, g_loss: 1.5754, D(x): 0.73, D(G(z)): 0.25\n",
      "Epoch [16/50], Step [24/40], d_loss: 0.6335, g_loss: 1.6397, D(x): 0.73, D(G(z)): 0.23\n",
      "Epoch [16/50], Step [25/40], d_loss: 0.6197, g_loss: 1.6914, D(x): 0.73, D(G(z)): 0.23\n",
      "Epoch [16/50], Step [26/40], d_loss: 0.6130, g_loss: 1.7405, D(x): 0.72, D(G(z)): 0.21\n",
      "Epoch [16/50], Step [27/40], d_loss: 0.5963, g_loss: 1.7800, D(x): 0.72, D(G(z)): 0.20\n",
      "Epoch [16/50], Step [28/40], d_loss: 0.5980, g_loss: 1.8182, D(x): 0.72, D(G(z)): 0.20\n",
      "Epoch [16/50], Step [29/40], d_loss: 0.5760, g_loss: 1.8475, D(x): 0.72, D(G(z)): 0.19\n",
      "Epoch [16/50], Step [30/40], d_loss: 0.5785, g_loss: 1.8794, D(x): 0.72, D(G(z)): 0.18\n",
      "Epoch [16/50], Step [31/40], d_loss: 0.5647, g_loss: 1.8987, D(x): 0.72, D(G(z)): 0.18\n",
      "Epoch [16/50], Step [32/40], d_loss: 0.5705, g_loss: 1.9084, D(x): 0.72, D(G(z)): 0.17\n",
      "Epoch [16/50], Step [33/40], d_loss: 0.5512, g_loss: 1.9243, D(x): 0.73, D(G(z)): 0.17\n",
      "Epoch [16/50], Step [34/40], d_loss: 0.5562, g_loss: 1.9263, D(x): 0.72, D(G(z)): 0.17\n",
      "Epoch [16/50], Step [35/40], d_loss: 0.5260, g_loss: 1.9458, D(x): 0.74, D(G(z)): 0.17\n",
      "Epoch [16/50], Step [36/40], d_loss: 0.5309, g_loss: 1.9305, D(x): 0.74, D(G(z)): 0.17\n",
      "Epoch [16/50], Step [37/40], d_loss: 0.5144, g_loss: 1.9249, D(x): 0.75, D(G(z)): 0.16\n",
      "Epoch [16/50], Step [38/40], d_loss: 0.4851, g_loss: 1.9359, D(x): 0.76, D(G(z)): 0.16\n",
      "Epoch [16/50], Step [39/40], d_loss: 0.4694, g_loss: 1.9161, D(x): 0.78, D(G(z)): 0.17\n",
      "Epoch [16/50], Step [40/40], d_loss: 0.4653, g_loss: 1.9047, D(x): 0.78, D(G(z)): 0.17\n"
     ]
    },
    {
     "data": {
      "image/png": "[encoded data removed]",
      "text/plain": [
       "<Figure size 432x288 with 1 Axes>"
      ]
     },
     "metadata": {
      "needs_background": "light"
     },
     "output_type": "display_data"
    },
    {
     "name": "stdout",
     "output_type": "stream",
     "text": [
      "Epoch [17/50], Step [1/40], d_loss: 0.3544, g_loss: 1.9013, D(x): 0.86, D(G(z)): 0.17\n",
      "Epoch [17/50], Step [2/40], d_loss: 0.3733, g_loss: 1.8985, D(x): 0.85, D(G(z)): 0.17\n",
      "Epoch [17/50], Step [3/40], d_loss: 0.3648, g_loss: 1.8877, D(x): 0.85, D(G(z)): 0.17\n",
      "Epoch [17/50], Step [4/40], d_loss: 0.3642, g_loss: 1.8892, D(x): 0.85, D(G(z)): 0.17\n",
      "Epoch [17/50], Step [5/40], d_loss: 0.3676, g_loss: 1.8849, D(x): 0.85, D(G(z)): 0.17\n",
      "Epoch [17/50], Step [6/40], d_loss: 0.3621, g_loss: 1.8709, D(x): 0.86, D(G(z)): 0.18\n",
      "Epoch [17/50], Step [7/40], d_loss: 0.3769, g_loss: 1.8544, D(x): 0.85, D(G(z)): 0.18\n",
      "Epoch [17/50], Step [8/40], d_loss: 0.3783, g_loss: 1.8212, D(x): 0.86, D(G(z)): 0.19\n",
      "Epoch [17/50], Step [9/40], d_loss: 0.3952, g_loss: 1.7967, D(x): 0.85, D(G(z)): 0.19\n",
      "Epoch [17/50], Step [10/40], d_loss: 0.4049, g_loss: 1.7605, D(x): 0.85, D(G(z)): 0.20\n",
      "Epoch [17/50], Step [11/40], d_loss: 0.4215, g_loss: 1.7469, D(x): 0.85, D(G(z)): 0.21\n",
      "Epoch [17/50], Step [12/40], d_loss: 0.4239, g_loss: 1.7477, D(x): 0.85, D(G(z)): 0.21\n",
      "Epoch [17/50], Step [13/40], d_loss: 0.4129, g_loss: 1.7998, D(x): 0.85, D(G(z)): 0.20\n",
      "Epoch [17/50], Step [14/40], d_loss: 0.3945, g_loss: 1.8731, D(x): 0.84, D(G(z)): 0.19\n",
      "Epoch [17/50], Step [15/40], d_loss: 0.3772, g_loss: 1.9701, D(x): 0.84, D(G(z)): 0.17\n",
      "Epoch [17/50], Step [16/40], d_loss: 0.3594, g_loss: 2.0591, D(x): 0.84, D(G(z)): 0.15\n",
      "Epoch [17/50], Step [17/40], d_loss: 0.3557, g_loss: 2.1515, D(x): 0.83, D(G(z)): 0.14\n",
      "Epoch [17/50], Step [18/40], d_loss: 0.3538, g_loss: 2.2203, D(x): 0.83, D(G(z)): 0.13\n",
      "Epoch [17/50], Step [19/40], d_loss: 0.3363, g_loss: 2.2786, D(x): 0.83, D(G(z)): 0.12\n",
      "Epoch [17/50], Step [20/40], d_loss: 0.3273, g_loss: 2.3232, D(x): 0.83, D(G(z)): 0.12\n",
      "Epoch [17/50], Step [21/40], d_loss: 0.3259, g_loss: 2.3525, D(x): 0.83, D(G(z)): 0.11\n",
      "Epoch [17/50], Step [22/40], d_loss: 0.3224, g_loss: 2.3794, D(x): 0.83, D(G(z)): 0.11\n",
      "Epoch [17/50], Step [23/40], d_loss: 0.3324, g_loss: 2.3992, D(x): 0.82, D(G(z)): 0.11\n",
      "Epoch [17/50], Step [24/40], d_loss: 0.3261, g_loss: 2.4011, D(x): 0.82, D(G(z)): 0.10\n",
      "Epoch [17/50], Step [25/40], d_loss: 0.3177, g_loss: 2.3958, D(x): 0.83, D(G(z)): 0.10\n",
      "Epoch [17/50], Step [26/40], d_loss: 0.3193, g_loss: 2.4024, D(x): 0.83, D(G(z)): 0.10\n",
      "Epoch [17/50], Step [27/40], d_loss: 0.3091, g_loss: 2.4032, D(x): 0.83, D(G(z)): 0.10\n",
      "Epoch [17/50], Step [28/40], d_loss: 0.3167, g_loss: 2.4054, D(x): 0.83, D(G(z)): 0.10\n",
      "Epoch [17/50], Step [29/40], d_loss: 0.3018, g_loss: 2.3928, D(x): 0.84, D(G(z)): 0.10\n",
      "Epoch [17/50], Step [30/40], d_loss: 0.3015, g_loss: 2.3777, D(x): 0.84, D(G(z)): 0.10\n",
      "Epoch [17/50], Step [31/40], d_loss: 0.3074, g_loss: 2.3481, D(x): 0.84, D(G(z)): 0.10\n",
      "Epoch [17/50], Step [32/40], d_loss: 0.3171, g_loss: 2.3011, D(x): 0.84, D(G(z)): 0.11\n",
      "Epoch [17/50], Step [33/40], d_loss: 0.3165, g_loss: 2.2436, D(x): 0.84, D(G(z)): 0.12\n",
      "Epoch [17/50], Step [34/40], d_loss: 0.3242, g_loss: 2.1793, D(x): 0.84, D(G(z)): 0.13\n",
      "Epoch [17/50], Step [35/40], d_loss: 0.3153, g_loss: 2.1047, D(x): 0.86, D(G(z)): 0.14\n",
      "Epoch [17/50], Step [36/40], d_loss: 0.3329, g_loss: 2.0447, D(x): 0.86, D(G(z)): 0.15\n",
      "Epoch [17/50], Step [37/40], d_loss: 0.3395, g_loss: 2.0011, D(x): 0.86, D(G(z)): 0.16\n",
      "Epoch [17/50], Step [38/40], d_loss: 0.3301, g_loss: 1.9681, D(x): 0.87, D(G(z)): 0.17\n",
      "Epoch [17/50], Step [39/40], d_loss: 0.3282, g_loss: 1.9692, D(x): 0.88, D(G(z)): 0.17\n",
      "Epoch [17/50], Step [40/40], d_loss: 0.3357, g_loss: 1.9708, D(x): 0.88, D(G(z)): 0.17\n"
     ]
    },
    {
     "data": {
      "image/png": "[encoded data removed]",
      "text/plain": [
       "<Figure size 432x288 with 1 Axes>"
      ]
     },
     "metadata": {
      "needs_background": "light"
     },
     "output_type": "display_data"
    },
    {
     "name": "stdout",
     "output_type": "stream",
     "text": [
      "Epoch [18/50], Step [1/40], d_loss: 0.2718, g_loss: 1.9920, D(x): 0.93, D(G(z)): 0.17\n",
      "Epoch [18/50], Step [2/40], d_loss: 0.2771, g_loss: 2.0439, D(x): 0.92, D(G(z)): 0.17\n",
      "Epoch [18/50], Step [3/40], d_loss: 0.2659, g_loss: 2.1133, D(x): 0.92, D(G(z)): 0.16\n",
      "Epoch [18/50], Step [4/40], d_loss: 0.2581, g_loss: 2.2018, D(x): 0.91, D(G(z)): 0.15\n",
      "Epoch [18/50], Step [5/40], d_loss: 0.2462, g_loss: 2.3164, D(x): 0.91, D(G(z)): 0.13\n",
      "Epoch [18/50], Step [6/40], d_loss: 0.2284, g_loss: 2.4520, D(x): 0.90, D(G(z)): 0.11\n",
      "Epoch [18/50], Step [7/40], d_loss: 0.2269, g_loss: 2.6111, D(x): 0.89, D(G(z)): 0.09\n",
      "Epoch [18/50], Step [8/40], d_loss: 0.2069, g_loss: 2.7714, D(x): 0.89, D(G(z)): 0.08\n",
      "Epoch [18/50], Step [9/40], d_loss: 0.2121, g_loss: 2.9233, D(x): 0.88, D(G(z)): 0.07\n",
      "Epoch [18/50], Step [10/40], d_loss: 0.2002, g_loss: 3.0491, D(x): 0.88, D(G(z)): 0.06\n",
      "Epoch [18/50], Step [11/40], d_loss: 0.2023, g_loss: 3.1504, D(x): 0.87, D(G(z)): 0.05\n",
      "Epoch [18/50], Step [12/40], d_loss: 0.2020, g_loss: 3.2280, D(x): 0.87, D(G(z)): 0.05\n",
      "Epoch [18/50], Step [13/40], d_loss: 0.1937, g_loss: 3.2906, D(x): 0.87, D(G(z)): 0.04\n",
      "Epoch [18/50], Step [14/40], d_loss: 0.1900, g_loss: 3.3300, D(x): 0.87, D(G(z)): 0.04\n",
      "Epoch [18/50], Step [15/40], d_loss: 0.1866, g_loss: 3.3616, D(x): 0.87, D(G(z)): 0.04\n",
      "Epoch [18/50], Step [16/40], d_loss: 0.1844, g_loss: 3.3751, D(x): 0.87, D(G(z)): 0.04\n",
      "Epoch [18/50], Step [17/40], d_loss: 0.1844, g_loss: 3.3817, D(x): 0.87, D(G(z)): 0.04\n",
      "Epoch [18/50], Step [18/40], d_loss: 0.1772, g_loss: 3.3744, D(x): 0.88, D(G(z)): 0.04\n",
      "Epoch [18/50], Step [19/40], d_loss: 0.1630, g_loss: 3.3663, D(x): 0.89, D(G(z)): 0.04\n",
      "Epoch [18/50], Step [20/40], d_loss: 0.1581, g_loss: 3.3524, D(x): 0.89, D(G(z)): 0.04\n",
      "Epoch [18/50], Step [21/40], d_loss: 0.1477, g_loss: 3.3436, D(x): 0.90, D(G(z)): 0.04\n",
      "Epoch [18/50], Step [22/40], d_loss: 0.1429, g_loss: 3.3441, D(x): 0.91, D(G(z)): 0.04\n",
      "Epoch [18/50], Step [23/40], d_loss: 0.1385, g_loss: 3.3509, D(x): 0.91, D(G(z)): 0.04\n",
      "Epoch [18/50], Step [24/40], d_loss: 0.1286, g_loss: 3.3592, D(x): 0.92, D(G(z)): 0.04\n",
      "Epoch [18/50], Step [25/40], d_loss: 0.1201, g_loss: 3.3677, D(x): 0.92, D(G(z)): 0.04\n",
      "Epoch [18/50], Step [26/40], d_loss: 0.1146, g_loss: 3.3710, D(x): 0.93, D(G(z)): 0.04\n",
      "Epoch [18/50], Step [27/40], d_loss: 0.1074, g_loss: 3.3760, D(x): 0.93, D(G(z)): 0.04\n",
      "Epoch [18/50], Step [28/40], d_loss: 0.1065, g_loss: 3.3802, D(x): 0.94, D(G(z)): 0.03\n",
      "Epoch [18/50], Step [29/40], d_loss: 0.0999, g_loss: 3.3836, D(x): 0.94, D(G(z)): 0.03\n",
      "Epoch [18/50], Step [30/40], d_loss: 0.0931, g_loss: 3.3903, D(x): 0.95, D(G(z)): 0.03\n",
      "Epoch [18/50], Step [31/40], d_loss: 0.0934, g_loss: 3.3991, D(x): 0.95, D(G(z)): 0.03\n",
      "Epoch [18/50], Step [32/40], d_loss: 0.0930, g_loss: 3.4102, D(x): 0.95, D(G(z)): 0.03\n",
      "Epoch [18/50], Step [33/40], d_loss: 0.0895, g_loss: 3.4205, D(x): 0.95, D(G(z)): 0.03\n",
      "Epoch [18/50], Step [34/40], d_loss: 0.0847, g_loss: 3.4340, D(x): 0.95, D(G(z)): 0.03\n",
      "Epoch [18/50], Step [35/40], d_loss: 0.0759, g_loss: 3.4476, D(x): 0.96, D(G(z)): 0.03\n",
      "Epoch [18/50], Step [36/40], d_loss: 0.0749, g_loss: 3.4675, D(x): 0.96, D(G(z)): 0.03\n",
      "Epoch [18/50], Step [37/40], d_loss: 0.0726, g_loss: 3.4904, D(x): 0.96, D(G(z)): 0.03\n",
      "Epoch [18/50], Step [38/40], d_loss: 0.0680, g_loss: 3.5179, D(x): 0.97, D(G(z)): 0.03\n",
      "Epoch [18/50], Step [39/40], d_loss: 0.0641, g_loss: 3.5436, D(x): 0.97, D(G(z)): 0.03\n",
      "Epoch [18/50], Step [40/40], d_loss: 0.0632, g_loss: 3.5748, D(x): 0.97, D(G(z)): 0.03\n"
     ]
    },
    {
     "data": {
      "image/png": "[encoded data removed]",
      "text/plain": [
       "<Figure size 432x288 with 1 Axes>"
      ]
     },
     "metadata": {
      "needs_background": "light"
     },
     "output_type": "display_data"
    },
    {
     "name": "stdout",
     "output_type": "stream",
     "text": [
      "Epoch [19/50], Step [1/40], d_loss: 0.0532, g_loss: 3.6079, D(x): 0.98, D(G(z)): 0.03\n",
      "Epoch [19/50], Step [2/40], d_loss: 0.0524, g_loss: 3.6451, D(x): 0.98, D(G(z)): 0.03\n",
      "Epoch [19/50], Step [3/40], d_loss: 0.0501, g_loss: 3.6813, D(x): 0.98, D(G(z)): 0.03\n",
      "Epoch [19/50], Step [4/40], d_loss: 0.0480, g_loss: 3.7183, D(x): 0.98, D(G(z)): 0.03\n",
      "Epoch [19/50], Step [5/40], d_loss: 0.0477, g_loss: 3.7603, D(x): 0.98, D(G(z)): 0.03\n",
      "Epoch [19/50], Step [6/40], d_loss: 0.0456, g_loss: 3.7898, D(x): 0.98, D(G(z)): 0.02\n",
      "Epoch [19/50], Step [7/40], d_loss: 0.0467, g_loss: 3.8227, D(x): 0.98, D(G(z)): 0.02\n",
      "Epoch [19/50], Step [8/40], d_loss: 0.0435, g_loss: 3.8515, D(x): 0.98, D(G(z)): 0.02\n",
      "Epoch [19/50], Step [9/40], d_loss: 0.0452, g_loss: 3.8844, D(x): 0.98, D(G(z)): 0.02\n",
      "Epoch [19/50], Step [10/40], d_loss: 0.0435, g_loss: 3.9013, D(x): 0.98, D(G(z)): 0.02\n",
      "Epoch [19/50], Step [11/40], d_loss: 0.0435, g_loss: 3.9176, D(x): 0.98, D(G(z)): 0.02\n",
      "Epoch [19/50], Step [12/40], d_loss: 0.0437, g_loss: 3.9341, D(x): 0.98, D(G(z)): 0.02\n",
      "Epoch [19/50], Step [13/40], d_loss: 0.0424, g_loss: 3.9444, D(x): 0.98, D(G(z)): 0.02\n",
      "Epoch [19/50], Step [14/40], d_loss: 0.0431, g_loss: 3.9529, D(x): 0.98, D(G(z)): 0.02\n",
      "Epoch [19/50], Step [15/40], d_loss: 0.0436, g_loss: 3.9594, D(x): 0.98, D(G(z)): 0.02\n",
      "Epoch [19/50], Step [16/40], d_loss: 0.0436, g_loss: 3.9613, D(x): 0.98, D(G(z)): 0.02\n",
      "Epoch [19/50], Step [17/40], d_loss: 0.0443, g_loss: 3.9591, D(x): 0.98, D(G(z)): 0.02\n",
      "Epoch [19/50], Step [18/40], d_loss: 0.0449, g_loss: 3.9493, D(x): 0.98, D(G(z)): 0.02\n",
      "Epoch [19/50], Step [19/40], d_loss: 0.0453, g_loss: 3.9349, D(x): 0.98, D(G(z)): 0.02\n",
      "Epoch [19/50], Step [20/40], d_loss: 0.0459, g_loss: 3.9174, D(x): 0.98, D(G(z)): 0.02\n",
      "Epoch [19/50], Step [21/40], d_loss: 0.0458, g_loss: 3.8859, D(x): 0.98, D(G(z)): 0.02\n",
      "Epoch [19/50], Step [22/40], d_loss: 0.0474, g_loss: 3.8563, D(x): 0.98, D(G(z)): 0.02\n",
      "Epoch [19/50], Step [23/40], d_loss: 0.0492, g_loss: 3.8072, D(x): 0.98, D(G(z)): 0.03\n",
      "Epoch [19/50], Step [24/40], d_loss: 0.0513, g_loss: 3.7538, D(x): 0.98, D(G(z)): 0.03\n",
      "Epoch [19/50], Step [25/40], d_loss: 0.0534, g_loss: 3.6746, D(x): 0.98, D(G(z)): 0.03\n",
      "Epoch [19/50], Step [26/40], d_loss: 0.0570, g_loss: 3.5771, D(x): 0.98, D(G(z)): 0.03\n",
      "Epoch [19/50], Step [27/40], d_loss: 0.0629, g_loss: 3.4497, D(x): 0.98, D(G(z)): 0.04\n",
      "Epoch [19/50], Step [28/40], d_loss: 0.0733, g_loss: 3.2601, D(x): 0.98, D(G(z)): 0.05\n",
      "Epoch [19/50], Step [29/40], d_loss: 0.0890, g_loss: 3.0052, D(x): 0.98, D(G(z)): 0.06\n",
      "Epoch [19/50], Step [30/40], d_loss: 0.1171, g_loss: 2.6620, D(x): 0.98, D(G(z)): 0.09\n",
      "Epoch [19/50], Step [31/40], d_loss: 0.1806, g_loss: 2.2351, D(x): 0.97, D(G(z)): 0.14\n",
      "Epoch [19/50], Step [32/40], d_loss: 0.3178, g_loss: 1.7452, D(x): 0.97, D(G(z)): 0.24\n",
      "Epoch [19/50], Step [33/40], d_loss: 0.5736, g_loss: 1.2549, D(x): 0.97, D(G(z)): 0.41\n",
      "Epoch [19/50], Step [34/40], d_loss: 0.9372, g_loss: 0.9254, D(x): 0.96, D(G(z)): 0.58\n",
      "Epoch [19/50], Step [35/40], d_loss: 1.2140, g_loss: 0.7632, D(x): 0.95, D(G(z)): 0.67\n",
      "Epoch [19/50], Step [36/40], d_loss: 1.2325, g_loss: 0.7948, D(x): 0.93, D(G(z)): 0.67\n",
      "Epoch [19/50], Step [37/40], d_loss: 1.0934, g_loss: 0.9595, D(x): 0.90, D(G(z)): 0.61\n",
      "Epoch [19/50], Step [38/40], d_loss: 0.9217, g_loss: 1.1929, D(x): 0.86, D(G(z)): 0.52\n",
      "Epoch [19/50], Step [39/40], d_loss: 0.7960, g_loss: 1.4458, D(x): 0.81, D(G(z)): 0.42\n",
      "Epoch [19/50], Step [40/40], d_loss: 0.7767, g_loss: 1.6662, D(x): 0.74, D(G(z)): 0.34\n"
     ]
    },
    {
     "data": {
      "image/png": "[encoded data removed]",
      "text/plain": [
       "<Figure size 432x288 with 1 Axes>"
      ]
     },
     "metadata": {
      "needs_background": "light"
     },
     "output_type": "display_data"
    },
    {
     "name": "stdout",
     "output_type": "stream",
     "text": [
      "Epoch [20/50], Step [1/40], d_loss: 0.7249, g_loss: 1.8179, D(x): 0.72, D(G(z)): 0.28\n",
      "Epoch [20/50], Step [2/40], d_loss: 0.7773, g_loss: 1.9512, D(x): 0.66, D(G(z)): 0.24\n",
      "Epoch [20/50], Step [3/40], d_loss: 0.8434, g_loss: 2.0101, D(x): 0.61, D(G(z)): 0.21\n",
      "Epoch [20/50], Step [4/40], d_loss: 0.8887, g_loss: 2.0086, D(x): 0.59, D(G(z)): 0.21\n",
      "Epoch [20/50], Step [5/40], d_loss: 0.9627, g_loss: 1.9698, D(x): 0.56, D(G(z)): 0.21\n",
      "Epoch [20/50], Step [6/40], d_loss: 1.0190, g_loss: 1.8827, D(x): 0.54, D(G(z)): 0.21\n",
      "Epoch [20/50], Step [7/40], d_loss: 1.0879, g_loss: 1.7761, D(x): 0.52, D(G(z)): 0.23\n",
      "Epoch [20/50], Step [8/40], d_loss: 1.0950, g_loss: 1.6324, D(x): 0.54, D(G(z)): 0.26\n",
      "Epoch [20/50], Step [9/40], d_loss: 1.1588, g_loss: 1.5013, D(x): 0.54, D(G(z)): 0.29\n",
      "Epoch [20/50], Step [10/40], d_loss: 1.1659, g_loss: 1.3385, D(x): 0.56, D(G(z)): 0.33\n",
      "Epoch [20/50], Step [11/40], d_loss: 1.2152, g_loss: 1.1869, D(x): 0.57, D(G(z)): 0.37\n",
      "Epoch [20/50], Step [12/40], d_loss: 1.2557, g_loss: 1.0685, D(x): 0.59, D(G(z)): 0.42\n",
      "Epoch [20/50], Step [13/40], d_loss: 1.2909, g_loss: 0.9624, D(x): 0.61, D(G(z)): 0.46\n",
      "Epoch [20/50], Step [14/40], d_loss: 1.3729, g_loss: 0.8551, D(x): 0.62, D(G(z)): 0.51\n",
      "Epoch [20/50], Step [15/40], d_loss: 1.4662, g_loss: 0.7563, D(x): 0.63, D(G(z)): 0.56\n",
      "Epoch [20/50], Step [16/40], d_loss: 1.5700, g_loss: 0.6979, D(x): 0.64, D(G(z)): 0.60\n",
      "Epoch [20/50], Step [17/40], d_loss: 1.7041, g_loss: 0.6473, D(x): 0.63, D(G(z)): 0.64\n",
      "Epoch [20/50], Step [18/40], d_loss: 1.8107, g_loss: 0.6371, D(x): 0.63, D(G(z)): 0.67\n",
      "Epoch [20/50], Step [19/40], d_loss: 1.8651, g_loss: 0.6390, D(x): 0.62, D(G(z)): 0.68\n",
      "Epoch [20/50], Step [20/40], d_loss: 1.8721, g_loss: 0.6948, D(x): 0.61, D(G(z)): 0.68\n",
      "Epoch [20/50], Step [21/40], d_loss: 1.7539, g_loss: 0.8101, D(x): 0.59, D(G(z)): 0.64\n",
      "Epoch [20/50], Step [22/40], d_loss: 1.6165, g_loss: 0.9803, D(x): 0.58, D(G(z)): 0.58\n",
      "Epoch [20/50], Step [23/40], d_loss: 1.5126, g_loss: 1.1677, D(x): 0.56, D(G(z)): 0.52\n",
      "Epoch [20/50], Step [24/40], d_loss: 1.4873, g_loss: 1.3279, D(x): 0.53, D(G(z)): 0.47\n",
      "Epoch [20/50], Step [25/40], d_loss: 1.4038, g_loss: 1.4790, D(x): 0.53, D(G(z)): 0.42\n",
      "Epoch [20/50], Step [26/40], d_loss: 1.3498, g_loss: 1.6605, D(x): 0.51, D(G(z)): 0.36\n",
      "Epoch [20/50], Step [27/40], d_loss: 1.3389, g_loss: 1.8132, D(x): 0.50, D(G(z)): 0.32\n",
      "Epoch [20/50], Step [28/40], d_loss: 1.3312, g_loss: 1.9058, D(x): 0.48, D(G(z)): 0.29\n",
      "Epoch [20/50], Step [29/40], d_loss: 1.3017, g_loss: 1.9620, D(x): 0.49, D(G(z)): 0.27\n",
      "Epoch [20/50], Step [30/40], d_loss: 1.3202, g_loss: 1.9609, D(x): 0.48, D(G(z)): 0.27\n",
      "Epoch [20/50], Step [31/40], d_loss: 1.3538, g_loss: 1.8605, D(x): 0.49, D(G(z)): 0.29\n",
      "Epoch [20/50], Step [32/40], d_loss: 1.4054, g_loss: 1.7505, D(x): 0.49, D(G(z)): 0.31\n",
      "Epoch [20/50], Step [33/40], d_loss: 1.4244, g_loss: 1.6121, D(x): 0.50, D(G(z)): 0.33\n",
      "Epoch [20/50], Step [34/40], d_loss: 1.4320, g_loss: 1.5059, D(x): 0.51, D(G(z)): 0.36\n",
      "Epoch [20/50], Step [35/40], d_loss: 1.3588, g_loss: 1.4293, D(x): 0.54, D(G(z)): 0.37\n",
      "Epoch [20/50], Step [36/40], d_loss: 1.3733, g_loss: 1.3881, D(x): 0.55, D(G(z)): 0.38\n",
      "Epoch [20/50], Step [37/40], d_loss: 1.3224, g_loss: 1.3579, D(x): 0.56, D(G(z)): 0.37\n",
      "Epoch [20/50], Step [38/40], d_loss: 1.2493, g_loss: 1.3889, D(x): 0.57, D(G(z)): 0.36\n",
      "Epoch [20/50], Step [39/40], d_loss: 1.2013, g_loss: 1.4461, D(x): 0.58, D(G(z)): 0.34\n",
      "Epoch [20/50], Step [40/40], d_loss: 1.1387, g_loss: 1.5148, D(x): 0.58, D(G(z)): 0.32\n"
     ]
    },
    {
     "data": {
      "image/png": "[encoded data removed]",
      "text/plain": [
       "<Figure size 432x288 with 1 Axes>"
      ]
     },
     "metadata": {
      "needs_background": "light"
     },
     "output_type": "display_data"
    },
    {
     "name": "stdout",
     "output_type": "stream",
     "text": [
      "Epoch [21/50], Step [1/40], d_loss: 1.1805, g_loss: 1.5662, D(x): 0.55, D(G(z)): 0.29\n",
      "Epoch [21/50], Step [2/40], d_loss: 1.1034, g_loss: 1.6345, D(x): 0.57, D(G(z)): 0.28\n",
      "Epoch [21/50], Step [3/40], d_loss: 1.0361, g_loss: 1.6766, D(x): 0.58, D(G(z)): 0.25\n",
      "Epoch [21/50], Step [4/40], d_loss: 0.9796, g_loss: 1.7433, D(x): 0.60, D(G(z)): 0.24\n",
      "Epoch [21/50], Step [5/40], d_loss: 0.9463, g_loss: 1.7658, D(x): 0.60, D(G(z)): 0.23\n",
      "Epoch [21/50], Step [6/40], d_loss: 0.9097, g_loss: 1.7893, D(x): 0.61, D(G(z)): 0.22\n",
      "Epoch [21/50], Step [7/40], d_loss: 0.8442, g_loss: 1.8240, D(x): 0.64, D(G(z)): 0.21\n",
      "Epoch [21/50], Step [8/40], d_loss: 0.8129, g_loss: 1.8354, D(x): 0.65, D(G(z)): 0.22\n",
      "Epoch [21/50], Step [9/40], d_loss: 0.7624, g_loss: 1.8553, D(x): 0.67, D(G(z)): 0.21\n",
      "Epoch [21/50], Step [10/40], d_loss: 0.7039, g_loss: 1.8626, D(x): 0.70, D(G(z)): 0.21\n",
      "Epoch [21/50], Step [11/40], d_loss: 0.6581, g_loss: 1.8647, D(x): 0.73, D(G(z)): 0.21\n",
      "Epoch [21/50], Step [12/40], d_loss: 0.6359, g_loss: 1.8621, D(x): 0.74, D(G(z)): 0.21\n",
      "Epoch [21/50], Step [13/40], d_loss: 0.6035, g_loss: 1.8632, D(x): 0.76, D(G(z)): 0.21\n",
      "Epoch [21/50], Step [14/40], d_loss: 0.5765, g_loss: 1.8650, D(x): 0.77, D(G(z)): 0.21\n",
      "Epoch [21/50], Step [15/40], d_loss: 0.5774, g_loss: 1.8689, D(x): 0.78, D(G(z)): 0.22\n",
      "Epoch [21/50], Step [16/40], d_loss: 0.5643, g_loss: 1.8791, D(x): 0.79, D(G(z)): 0.22\n",
      "Epoch [21/50], Step [17/40], d_loss: 0.5525, g_loss: 1.8485, D(x): 0.80, D(G(z)): 0.22\n",
      "Epoch [21/50], Step [18/40], d_loss: 0.5323, g_loss: 1.8702, D(x): 0.81, D(G(z)): 0.23\n",
      "Epoch [21/50], Step [19/40], d_loss: 0.5321, g_loss: 1.8662, D(x): 0.81, D(G(z)): 0.23\n",
      "Epoch [21/50], Step [20/40], d_loss: 0.5179, g_loss: 1.8784, D(x): 0.82, D(G(z)): 0.23\n",
      "Epoch [21/50], Step [21/40], d_loss: 0.5014, g_loss: 1.8862, D(x): 0.83, D(G(z)): 0.22\n",
      "Epoch [21/50], Step [22/40], d_loss: 0.4982, g_loss: 1.8847, D(x): 0.83, D(G(z)): 0.23\n",
      "Epoch [21/50], Step [23/40], d_loss: 0.4838, g_loss: 1.9016, D(x): 0.83, D(G(z)): 0.22\n",
      "Epoch [21/50], Step [24/40], d_loss: 0.4823, g_loss: 1.8869, D(x): 0.84, D(G(z)): 0.22\n",
      "Epoch [21/50], Step [25/40], d_loss: 0.4728, g_loss: 1.8918, D(x): 0.84, D(G(z)): 0.22\n",
      "Epoch [21/50], Step [26/40], d_loss: 0.4767, g_loss: 1.8773, D(x): 0.83, D(G(z)): 0.22\n",
      "Epoch [21/50], Step [27/40], d_loss: 0.4749, g_loss: 1.8861, D(x): 0.83, D(G(z)): 0.22\n",
      "Epoch [21/50], Step [28/40], d_loss: 0.4676, g_loss: 1.8758, D(x): 0.83, D(G(z)): 0.22\n",
      "Epoch [21/50], Step [29/40], d_loss: 0.4691, g_loss: 1.8482, D(x): 0.83, D(G(z)): 0.21\n",
      "Epoch [21/50], Step [30/40], d_loss: 0.4644, g_loss: 1.8547, D(x): 0.83, D(G(z)): 0.22\n",
      "Epoch [21/50], Step [31/40], d_loss: 0.4787, g_loss: 1.8221, D(x): 0.83, D(G(z)): 0.22\n",
      "Epoch [21/50], Step [32/40], d_loss: 0.4907, g_loss: 1.8158, D(x): 0.82, D(G(z)): 0.22\n",
      "Epoch [21/50], Step [33/40], d_loss: 0.4861, g_loss: 1.7690, D(x): 0.83, D(G(z)): 0.22\n",
      "Epoch [21/50], Step [34/40], d_loss: 0.5043, g_loss: 1.7199, D(x): 0.82, D(G(z)): 0.23\n",
      "Epoch [21/50], Step [35/40], d_loss: 0.4965, g_loss: 1.6948, D(x): 0.83, D(G(z)): 0.24\n"
     ]
    }
   ],
   "source": [
    "%matplotlib inline\n",
    "from matplotlib import pyplot as plt\n",
    "\n",
    "num_epochs = 50\n",
    "\n",
    "batch_size = 5000\n",
    "\n",
    "# Start training\n",
    "total_step = len(preloaded_data) // batch_size\n",
    "for epoch in range(num_epochs):\n",
    "    for i in range(total_step):\n",
    "        images = preloaded_data[batch_size * i : batch_size * (i+1)]\n",
    "        \n",
    "        # Create the labels which are later used as input for the BCE loss\n",
    "        real_labels = torch.ones(batch_size, 1).to(device)\n",
    "        fake_labels = torch.zeros(batch_size, 1).to(device)\n",
    "\n",
    "        # ================================================================== #\n",
    "        #                      Train the discriminator                       #\n",
    "        # ================================================================== #\n",
    "\n",
    "        # Compute BCE_Loss using real images where BCE_Loss(x, y): - y * log(D(x)) - (1-y) * log(1 - D(x))\n",
    "        # Second term of the loss is always zero since real_labels == 1\n",
    "        outputs = D(images)\n",
    "        d_loss_real = criterion(outputs, real_labels)\n",
    "        real_score = outputs\n",
    "        \n",
    "        # Compute BCELoss using fake images\n",
    "        # First term of the loss is always zero since fake_labels == 0\n",
    "        z = torch.randn(batch_size, *latent_shape).to(device)\n",
    "        fake_images = G(z)\n",
    "        outputs = D(fake_images)\n",
    "        d_loss_fake = criterion(outputs, fake_labels)\n",
    "        fake_score = outputs\n",
    "        \n",
    "        # Backprop and optimize\n",
    "        d_loss = d_loss_real + d_loss_fake\n",
    "        reset_grad()\n",
    "        d_loss.backward()\n",
    "        d_optimizer.step()\n",
    "        del d_loss_real, d_loss_fake\n",
    "        \n",
    "        # ================================================================== #\n",
    "        #                        Train the generator                         #\n",
    "        # ================================================================== #\n",
    "\n",
    "        # Compute loss with fake images\n",
    "        z = torch.randn(batch_size, *latent_shape).to(device)\n",
    "        fake_images = G(z)\n",
    "        outputs = D(fake_images)\n",
    "        \n",
    "        # We train G to maximize log(D(G(z)) instead of minimizing log(1-D(G(z)))\n",
    "        # For the reason, see the last paragraph of section 3. https://arxiv.org/pdf/1406.2661.pdf\n",
    "        g_loss = criterion(outputs, real_labels)\n",
    "        \n",
    "        # Backprop and optimize\n",
    "        reset_grad()\n",
    "        g_loss.backward()\n",
    "        g_optimizer.step()\n",
    "        \n",
    "        # if (i+1) % 200 == 0:\n",
    "        print('Epoch [{}/{}], Step [{}/{}], d_loss: {:.4f}, g_loss: {:.4f}, D(x): {:.2f}, D(G(z)): {:.2f}' \n",
    "                  .format(epoch, num_epochs, i+1, total_step, d_loss.item(), g_loss.item(), \n",
    "                          real_score.mean().item(), fake_score.mean().item()))\n",
    "        del d_loss, g_loss\n",
    "    \n",
    "    # Save the model checkpoints \n",
    "    torch.save(G.state_dict(), 'G.ckpt')\n",
    "    torch.save(D.state_dict(), 'D.ckpt')\n",
    "\n",
    "    # Save real images\n",
    "    if (epoch+1) == 1:\n",
    "        image = denorm(images).cpu().numpy()[0]\n",
    "        plt.figure()\n",
    "        plt.imshow(np.moveaxis(image, 0, -1))\n",
    "        plt.show()\n",
    "    \n",
    "    # Save sampled images\n",
    "    image = denorm(fake_images).cpu().detach().numpy()[0]\n",
    "    plt.figure()\n",
    "    plt.imshow(np.moveaxis(image, 0, -1))\n",
    "    plt.show()\n"
   ]
  }
 ],
 "metadata": {
  "kernelspec": {
   "display_name": "Python 3",
   "language": "python",
   "name": "python3"
  },
  "language_info": {
   "codemirror_mode": {
    "name": "ipython",
    "version": 3
   },
   "file_extension": ".py",
   "mimetype": "text/x-python",
   "name": "python",
   "nbconvert_exporter": "python",
   "pygments_lexer": "ipython3",
   "version": "3.7.0"
  }
 },
 "nbformat": 4,
 "nbformat_minor": 2
}
